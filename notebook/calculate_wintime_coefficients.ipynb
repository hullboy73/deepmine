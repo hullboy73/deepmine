{
 "cells": [
  {
   "cell_type": "markdown",
   "metadata": {},
   "source": [
    "# CALCULATE WINTIME COEFFICIENTS"
   ]
  },
  {
   "cell_type": "markdown",
   "metadata": {},
   "source": [
    "## Outline\n",
    "The goal of this notebook is to calculate coefficients for the effect on wintimes of:\n",
    "+ distance\n",
    "+ going\n",
    "+ raceclass\n",
    "+ age_conditions"
   ]
  },
  {
   "cell_type": "code",
   "execution_count": 52,
   "metadata": {
    "collapsed": false
   },
   "outputs": [],
   "source": [
    "# set up, imports and configuration\n",
    "%matplotlib inline\n",
    "import numpy as np\n",
    "import pandas as pd\n",
    "import matplotlib.pyplot as plt\n",
    "from scipy.stats import linregress\n",
    "from sklearn import preprocessing\n",
    "from sklearn.linear_model import LinearRegression\n",
    "from sklearn.preprocessing import MinMaxScaler\n",
    "# plt.rcParams['agg.path.chunksize'] = 10000\n",
    "plt.rcParams['figure.figsize'] = (15, 5)\n",
    "plt.rcParams['font.family'] = 'sans-serif'"
   ]
  },
  {
   "cell_type": "markdown",
   "metadata": {},
   "source": [
    "## Get The Data"
   ]
  },
  {
   "cell_type": "code",
   "execution_count": 53,
   "metadata": {
    "collapsed": false
   },
   "outputs": [
    {
     "data": {
      "text/plain": [
       "170727"
      ]
     },
     "execution_count": 53,
     "metadata": {},
     "output_type": "execute_result"
    }
   ],
   "source": [
    "# Read wintimes from csv file\n",
    "wintimes = pd.read_csv(\"/home/benjamin/Documents/form_study/analysis/deepmine/csv/wintimes.csv\")\n",
    "len(wintimes)"
   ]
  },
  {
   "cell_type": "markdown",
   "metadata": {},
   "source": [
    "## Clean The Data"
   ]
  },
  {
   "cell_type": "code",
   "execution_count": 54,
   "metadata": {
    "collapsed": false
   },
   "outputs": [
    {
     "name": "stdout",
     "output_type": "stream",
     "text": [
      "<class 'pandas.core.frame.DataFrame'>\n",
      "RangeIndex: 170727 entries, 0 to 170726\n",
      "Data columns (total 11 columns):\n",
      "Unnamed: 0    170727 non-null int64\n",
      "raceID        170727 non-null float64\n",
      "racedate      170727 non-null object\n",
      "racecourse    170727 non-null float64\n",
      "distance      170727 non-null float64\n",
      "going         170727 non-null object\n",
      "raceclass     136046 non-null float64\n",
      "racetype      170727 non-null object\n",
      "racetype2     170727 non-null object\n",
      "age_cond      170727 non-null object\n",
      "wintime       170581 non-null float64\n",
      "dtypes: float64(5), int64(1), object(5)\n",
      "memory usage: 14.3+ MB\n"
     ]
    }
   ],
   "source": [
    "wintimes.info()"
   ]
  },
  {
   "cell_type": "code",
   "execution_count": 55,
   "metadata": {
    "collapsed": true
   },
   "outputs": [],
   "source": [
    "# drop nas\n",
    "wintimes = wintimes.dropna(subset=['wintime'], how='any')\n",
    "wintimes = wintimes.dropna(subset=['raceclass'], how='any')"
   ]
  },
  {
   "cell_type": "code",
   "execution_count": 56,
   "metadata": {
    "collapsed": true
   },
   "outputs": [],
   "source": [
    "# convert going to a numbered dict\n",
    "goingDict = {'fast': 1, 'firm': 2, 'good-firm': 3, 'standard': 4, 'good': 5, 'good-soft': 6, 'soft': 7 , 'slow': 8, 'heavy': 9 }\n",
    "wintimes = wintimes.replace({\"going\": goingDict})"
   ]
  },
  {
   "cell_type": "code",
   "execution_count": 57,
   "metadata": {
    "collapsed": true
   },
   "outputs": [],
   "source": [
    "# convert racetype2 to a numbered dict\n",
    "wintimes.racetype2.value_counts()\n",
    "type2dict = {'Flat': 1, 'Hurdle': 2, 'Chase' : 3, 'National Hunt Flat' : 4}\n",
    "wintimes = wintimes.replace({\"racetype2\": type2dict})"
   ]
  },
  {
   "cell_type": "code",
   "execution_count": 58,
   "metadata": {
    "collapsed": false
   },
   "outputs": [
    {
     "data": {
      "text/plain": [
       "3    66090\n",
       "4    32972\n",
       "2    19921\n",
       "1    16864\n",
       "Name: age_cond, dtype: int64"
      ]
     },
     "execution_count": 58,
     "metadata": {},
     "output_type": "execute_result"
    }
   ],
   "source": [
    "# reduce number of age_conditions categories\n",
    "age_cond_dict = {'9yo+': 'N/A', '2yo+': 'N/A', '0yo+': 'N/A', '7yo+' : 'N/A', '8yo' : 'N/A', '8yo+': 'N/A',\n",
    "                '4yo': '4yo+', '6yo+': '4yo+', '5yo': '4yo+', '5yo+': '4yo+'}\n",
    "wintimes = wintimes.replace({\"age_cond\": age_cond_dict})\n",
    "wintimes = wintimes.drop(wintimes[wintimes.age_cond=='N/A'].index)\n",
    "# convert age conditions to a numbered dict\n",
    "age_cond_dict = {'2yo': 1, '3yo': 2, '4yo+' : 3, '3yo+': 4}\n",
    "wintimes = wintimes.replace({\"age_cond\": age_cond_dict})\n",
    "wintimes.age_cond.value_counts()"
   ]
  },
  {
   "cell_type": "code",
   "execution_count": 59,
   "metadata": {
    "collapsed": true
   },
   "outputs": [],
   "source": [
    "# Fairly simple to convert the race dates to pandas datetime format \n",
    "wintimes['racedate'] = pd.to_datetime(wintimes['racedate'])"
   ]
  },
  {
   "cell_type": "code",
   "execution_count": 60,
   "metadata": {
    "collapsed": true
   },
   "outputs": [],
   "source": [
    "# Drop some columns\n",
    "wintimes.drop(['raceID','racetype'], axis=1, inplace=True)"
   ]
  },
  {
   "cell_type": "code",
   "execution_count": 61,
   "metadata": {
    "collapsed": false
   },
   "outputs": [
    {
     "name": "stdout",
     "output_type": "stream",
     "text": [
      "<class 'pandas.core.frame.DataFrame'>\n",
      "Int64Index: 135847 entries, 0 to 170718\n",
      "Data columns (total 9 columns):\n",
      "Unnamed: 0    135847 non-null int64\n",
      "racedate      135847 non-null datetime64[ns]\n",
      "racecourse    135847 non-null float64\n",
      "distance      135847 non-null float64\n",
      "going         135847 non-null int64\n",
      "raceclass     135847 non-null float64\n",
      "racetype2     135847 non-null int64\n",
      "age_cond      135847 non-null int64\n",
      "wintime       135847 non-null float64\n",
      "dtypes: datetime64[ns](1), float64(4), int64(4)\n",
      "memory usage: 10.4 MB\n"
     ]
    }
   ],
   "source": [
    "wintimes.info()"
   ]
  },
  {
   "cell_type": "code",
   "execution_count": 62,
   "metadata": {
    "collapsed": false
   },
   "outputs": [
    {
     "data": {
      "text/html": [
       "<div>\n",
       "<table border=\"1\" class=\"dataframe\">\n",
       "  <thead>\n",
       "    <tr style=\"text-align: right;\">\n",
       "      <th></th>\n",
       "      <th>Unnamed: 0</th>\n",
       "      <th>racecourse</th>\n",
       "      <th>distance</th>\n",
       "      <th>going</th>\n",
       "      <th>raceclass</th>\n",
       "      <th>racetype2</th>\n",
       "      <th>age_cond</th>\n",
       "      <th>wintime</th>\n",
       "    </tr>\n",
       "  </thead>\n",
       "  <tbody>\n",
       "    <tr>\n",
       "      <th>count</th>\n",
       "      <td>135847.000000</td>\n",
       "      <td>135847.000000</td>\n",
       "      <td>135847.000000</td>\n",
       "      <td>135847.00000</td>\n",
       "      <td>135847.000000</td>\n",
       "      <td>135847.000000</td>\n",
       "      <td>135847.000000</td>\n",
       "      <td>135847.000000</td>\n",
       "    </tr>\n",
       "    <tr>\n",
       "      <th>mean</th>\n",
       "      <td>46837.747098</td>\n",
       "      <td>33.116889</td>\n",
       "      <td>12.773185</td>\n",
       "      <td>4.91274</td>\n",
       "      <td>4.386354</td>\n",
       "      <td>1.600492</td>\n",
       "      <td>2.847792</td>\n",
       "      <td>182.280634</td>\n",
       "    </tr>\n",
       "    <tr>\n",
       "      <th>std</th>\n",
       "      <td>27888.554717</td>\n",
       "      <td>17.930947</td>\n",
       "      <td>6.465887</td>\n",
       "      <td>2.07985</td>\n",
       "      <td>1.355963</td>\n",
       "      <td>0.852141</td>\n",
       "      <td>0.928846</td>\n",
       "      <td>108.645168</td>\n",
       "    </tr>\n",
       "    <tr>\n",
       "      <th>min</th>\n",
       "      <td>0.000000</td>\n",
       "      <td>1.000000</td>\n",
       "      <td>5.000000</td>\n",
       "      <td>1.00000</td>\n",
       "      <td>1.000000</td>\n",
       "      <td>1.000000</td>\n",
       "      <td>1.000000</td>\n",
       "      <td>0.010000</td>\n",
       "    </tr>\n",
       "    <tr>\n",
       "      <th>25%</th>\n",
       "      <td>22594.000000</td>\n",
       "      <td>19.000000</td>\n",
       "      <td>7.000000</td>\n",
       "      <td>3.00000</td>\n",
       "      <td>4.000000</td>\n",
       "      <td>1.000000</td>\n",
       "      <td>2.000000</td>\n",
       "      <td>87.490000</td>\n",
       "    </tr>\n",
       "    <tr>\n",
       "      <th>50%</th>\n",
       "      <td>46626.000000</td>\n",
       "      <td>33.000000</td>\n",
       "      <td>10.400000</td>\n",
       "      <td>5.00000</td>\n",
       "      <td>5.000000</td>\n",
       "      <td>1.000000</td>\n",
       "      <td>3.000000</td>\n",
       "      <td>138.510000</td>\n",
       "    </tr>\n",
       "    <tr>\n",
       "      <th>75%</th>\n",
       "      <td>69957.000000</td>\n",
       "      <td>48.000000</td>\n",
       "      <td>17.000000</td>\n",
       "      <td>6.00000</td>\n",
       "      <td>5.000000</td>\n",
       "      <td>2.000000</td>\n",
       "      <td>3.000000</td>\n",
       "      <td>263.970000</td>\n",
       "    </tr>\n",
       "    <tr>\n",
       "      <th>max</th>\n",
       "      <td>131798.000000</td>\n",
       "      <td>222.000000</td>\n",
       "      <td>36.000000</td>\n",
       "      <td>9.00000</td>\n",
       "      <td>7.000000</td>\n",
       "      <td>4.000000</td>\n",
       "      <td>4.000000</td>\n",
       "      <td>660.060000</td>\n",
       "    </tr>\n",
       "  </tbody>\n",
       "</table>\n",
       "</div>"
      ],
      "text/plain": [
       "          Unnamed: 0     racecourse       distance         going  \\\n",
       "count  135847.000000  135847.000000  135847.000000  135847.00000   \n",
       "mean    46837.747098      33.116889      12.773185       4.91274   \n",
       "std     27888.554717      17.930947       6.465887       2.07985   \n",
       "min         0.000000       1.000000       5.000000       1.00000   \n",
       "25%     22594.000000      19.000000       7.000000       3.00000   \n",
       "50%     46626.000000      33.000000      10.400000       5.00000   \n",
       "75%     69957.000000      48.000000      17.000000       6.00000   \n",
       "max    131798.000000     222.000000      36.000000       9.00000   \n",
       "\n",
       "           raceclass      racetype2       age_cond        wintime  \n",
       "count  135847.000000  135847.000000  135847.000000  135847.000000  \n",
       "mean        4.386354       1.600492       2.847792     182.280634  \n",
       "std         1.355963       0.852141       0.928846     108.645168  \n",
       "min         1.000000       1.000000       1.000000       0.010000  \n",
       "25%         4.000000       1.000000       2.000000      87.490000  \n",
       "50%         5.000000       1.000000       3.000000     138.510000  \n",
       "75%         5.000000       2.000000       3.000000     263.970000  \n",
       "max         7.000000       4.000000       4.000000     660.060000  "
      ]
     },
     "execution_count": 62,
     "metadata": {},
     "output_type": "execute_result"
    }
   ],
   "source": [
    "wintimes.describe()"
   ]
  },
  {
   "cell_type": "code",
   "execution_count": 63,
   "metadata": {
    "collapsed": false
   },
   "outputs": [
    {
     "data": {
      "text/html": [
       "<div>\n",
       "<table border=\"1\" class=\"dataframe\">\n",
       "  <thead>\n",
       "    <tr style=\"text-align: right;\">\n",
       "      <th></th>\n",
       "      <th>Unnamed: 0</th>\n",
       "      <th>racedate</th>\n",
       "      <th>racecourse</th>\n",
       "      <th>distance</th>\n",
       "      <th>going</th>\n",
       "      <th>raceclass</th>\n",
       "      <th>racetype2</th>\n",
       "      <th>age_cond</th>\n",
       "      <th>wintime</th>\n",
       "    </tr>\n",
       "  </thead>\n",
       "  <tbody>\n",
       "    <tr>\n",
       "      <th>0</th>\n",
       "      <td>0</td>\n",
       "      <td>2000-01-15</td>\n",
       "      <td>1.0</td>\n",
       "      <td>20.0</td>\n",
       "      <td>6</td>\n",
       "      <td>3.0</td>\n",
       "      <td>2</td>\n",
       "      <td>3</td>\n",
       "      <td>324.91</td>\n",
       "    </tr>\n",
       "    <tr>\n",
       "      <th>1</th>\n",
       "      <td>7</td>\n",
       "      <td>2000-01-15</td>\n",
       "      <td>1.0</td>\n",
       "      <td>19.5</td>\n",
       "      <td>6</td>\n",
       "      <td>2.0</td>\n",
       "      <td>3</td>\n",
       "      <td>3</td>\n",
       "      <td>309.59</td>\n",
       "    </tr>\n",
       "    <tr>\n",
       "      <th>2</th>\n",
       "      <td>12</td>\n",
       "      <td>2000-01-15</td>\n",
       "      <td>1.0</td>\n",
       "      <td>16.0</td>\n",
       "      <td>6</td>\n",
       "      <td>1.0</td>\n",
       "      <td>3</td>\n",
       "      <td>3</td>\n",
       "      <td>244.63</td>\n",
       "    </tr>\n",
       "    <tr>\n",
       "      <th>3</th>\n",
       "      <td>22</td>\n",
       "      <td>2000-01-15</td>\n",
       "      <td>1.0</td>\n",
       "      <td>16.5</td>\n",
       "      <td>6</td>\n",
       "      <td>2.0</td>\n",
       "      <td>2</td>\n",
       "      <td>3</td>\n",
       "      <td>255.31</td>\n",
       "    </tr>\n",
       "    <tr>\n",
       "      <th>4</th>\n",
       "      <td>29</td>\n",
       "      <td>2000-01-15</td>\n",
       "      <td>1.0</td>\n",
       "      <td>24.5</td>\n",
       "      <td>6</td>\n",
       "      <td>2.0</td>\n",
       "      <td>3</td>\n",
       "      <td>3</td>\n",
       "      <td>398.33</td>\n",
       "    </tr>\n",
       "  </tbody>\n",
       "</table>\n",
       "</div>"
      ],
      "text/plain": [
       "   Unnamed: 0   racedate  racecourse  distance  going  raceclass  racetype2  \\\n",
       "0           0 2000-01-15         1.0      20.0      6        3.0          2   \n",
       "1           7 2000-01-15         1.0      19.5      6        2.0          3   \n",
       "2          12 2000-01-15         1.0      16.0      6        1.0          3   \n",
       "3          22 2000-01-15         1.0      16.5      6        2.0          2   \n",
       "4          29 2000-01-15         1.0      24.5      6        2.0          3   \n",
       "\n",
       "   age_cond  wintime  \n",
       "0         3   324.91  \n",
       "1         3   309.59  \n",
       "2         3   244.63  \n",
       "3         3   255.31  \n",
       "4         3   398.33  "
      ]
     },
     "execution_count": 63,
     "metadata": {},
     "output_type": "execute_result"
    }
   ],
   "source": [
    "wintimes.head()"
   ]
  },
  {
   "cell_type": "code",
   "execution_count": 64,
   "metadata": {
    "collapsed": false
   },
   "outputs": [
    {
     "data": {
      "text/plain": [
       "135847"
      ]
     },
     "execution_count": 64,
     "metadata": {},
     "output_type": "execute_result"
    }
   ],
   "source": [
    "len(wintimes)"
   ]
  },
  {
   "cell_type": "markdown",
   "metadata": {},
   "source": [
    "## Remove Outliers\n",
    "My useful remove outliers method from part one."
   ]
  },
  {
   "cell_type": "code",
   "execution_count": 65,
   "metadata": {
    "collapsed": false
   },
   "outputs": [
    {
     "data": {
      "text/plain": [
       "<matplotlib.axes._subplots.AxesSubplot at 0x7f88e6e7f650>"
      ]
     },
     "execution_count": 65,
     "metadata": {},
     "output_type": "execute_result"
    },
    {
     "data": {
      "image/png": "[encoded data removed]",
      "text/plain": [
       "<matplotlib.figure.Figure at 0x7f88e6521f90>"
      ]
     },
     "metadata": {},
     "output_type": "display_data"
    }
   ],
   "source": [
    "# er... I'm not really sure how this fantastic code I wrote previously really works\n",
    "# but anyway... it removes 2000 odd outlier races from 135,000 races\n",
    "# I'll go with it\n",
    "statsdf = wintimes.groupby(['racecourse','racetype2','distance']).wintime.agg(['mean', 'std','count']).reset_index()\n",
    "wintimes = pd.merge(wintimes, statsdf, how='left', on=['racecourse','racetype2','distance'])\n",
    "wintimes = wintimes.dropna(subset=['mean', 'std', 'wintime', 'count'], how='any')\n",
    "wintimes['stdx3'] = wintimes['std'] * 3\n",
    "wintimes['windiff'] = abs(wintimes['wintime'] - wintimes['mean'])\n",
    "wintimes = wintimes[wintimes.windiff < wintimes.stdx3]\n",
    "wintimes.drop(['windiff','stdx3','mean','std'], axis=1, inplace=True)\n",
    "wintimes = wintimes[(wintimes['count'] > 5)]\n",
    "wintimes.plot(kind='scatter', x='distance', y='wintime')"
   ]
  },
  {
   "cell_type": "code",
   "execution_count": 66,
   "metadata": {
    "collapsed": false
   },
   "outputs": [
    {
     "data": {
      "text/plain": [
       "133850"
      ]
     },
     "execution_count": 66,
     "metadata": {},
     "output_type": "execute_result"
    }
   ],
   "source": [
    "len(wintimes)"
   ]
  },
  {
   "cell_type": "code",
   "execution_count": 67,
   "metadata": {
    "collapsed": false
   },
   "outputs": [
    {
     "name": "stdout",
     "output_type": "stream",
     "text": [
      "<class 'pandas.core.frame.DataFrame'>\n",
      "Int64Index: 133850 entries, 0 to 135846\n",
      "Data columns (total 10 columns):\n",
      "Unnamed: 0    133850 non-null int64\n",
      "racedate      133850 non-null datetime64[ns]\n",
      "racecourse    133850 non-null float64\n",
      "distance      133850 non-null float64\n",
      "going         133850 non-null int64\n",
      "raceclass     133850 non-null float64\n",
      "racetype2     133850 non-null int64\n",
      "age_cond      133850 non-null int64\n",
      "wintime       133850 non-null float64\n",
      "count         133850 non-null int64\n",
      "dtypes: datetime64[ns](1), float64(4), int64(5)\n",
      "memory usage: 11.2 MB\n"
     ]
    }
   ],
   "source": [
    "wintimes.info()"
   ]
  },
  {
   "cell_type": "code",
   "execution_count": 68,
   "metadata": {
    "collapsed": false
   },
   "outputs": [],
   "source": [
    "# I'll write to a new csv file here\n",
    "wintimes.to_csv(\"/home/benjamin/Documents/form_study/analysis/deepmine/csv/clean_wintimes_3.csv\")"
   ]
  },
  {
   "cell_type": "markdown",
   "metadata": {},
   "source": [
    "## Calculate the Mean Wintimes For Races Under Identical Race Conditions"
   ]
  },
  {
   "cell_type": "markdown",
   "metadata": {},
   "source": [
    "While this proved the wrong thing to do for these purposes it may be  useful code and data for composing speed ratings in the future."
   ]
  },
  {
   "cell_type": "code",
   "execution_count": 69,
   "metadata": {
    "collapsed": true
   },
   "outputs": [],
   "source": [
    "# set up, imports and configuration again in case I run it from here\n",
    "%matplotlib inline\n",
    "import numpy as np\n",
    "import pandas as pd\n",
    "import matplotlib.pyplot as plt\n",
    "from scipy.stats import linregress\n",
    "from sklearn import preprocessing\n",
    "from sklearn.linear_model import LinearRegression\n",
    "from sklearn.preprocessing import MinMaxScaler\n",
    "# plt.rcParams['agg.path.chunksize'] = 10000\n",
    "plt.rcParams['figure.figsize'] = (15, 5)\n",
    "plt.rcParams['font.family'] = 'sans-serif'"
   ]
  },
  {
   "cell_type": "code",
   "execution_count": 70,
   "metadata": {
    "collapsed": false
   },
   "outputs": [
    {
     "data": {
      "text/plain": [
       "133850"
      ]
     },
     "execution_count": 70,
     "metadata": {},
     "output_type": "execute_result"
    }
   ],
   "source": [
    "# If I read in the new csv file I can run the notebook on preprocessed (cleaned) data from here\n",
    "wintimes = pd.read_csv(\"/home/benjamin/Documents/form_study/analysis/deepmine/csv/clean_wintimes_3.csv\")\n",
    "len(wintimes)"
   ]
  },
  {
   "cell_type": "code",
   "execution_count": 71,
   "metadata": {
    "collapsed": false
   },
   "outputs": [
    {
     "name": "stdout",
     "output_type": "stream",
     "text": [
      "82432\n",
      "26847\n",
      "20817\n",
      "3754\n"
     ]
    }
   ],
   "source": [
    "# I split the wintimes into different dataframes based on racetype\n",
    "flt_times = wintimes[wintimes.racetype2 == 1]\n",
    "chs_times = wintimes[wintimes.racetype2 == 2]\n",
    "hdl_times = wintimes[wintimes.racetype2 == 3]\n",
    "nhf_times = wintimes[wintimes.racetype2 == 4]\n",
    "print len(flt_times)\n",
    "print len(chs_times)\n",
    "print len(hdl_times)\n",
    "print len(nhf_times)"
   ]
  },
  {
   "cell_type": "markdown",
   "metadata": {},
   "source": [
    "The table below at least shows how wintime is affected by raceclass under otherwise identical conditions.  \n",
    "Eg: (top line) 12 races at Ascot, 5f, Class 1, age_cond = 2yo, going = firm."
   ]
  },
  {
   "cell_type": "code",
   "execution_count": 72,
   "metadata": {
    "collapsed": false
   },
   "outputs": [
    {
     "data": {
      "text/html": [
       "<div>\n",
       "<table border=\"1\" class=\"dataframe\">\n",
       "  <thead>\n",
       "    <tr style=\"text-align: right;\">\n",
       "      <th></th>\n",
       "      <th></th>\n",
       "      <th></th>\n",
       "      <th></th>\n",
       "      <th></th>\n",
       "      <th>raceclass</th>\n",
       "      <th>wintime</th>\n",
       "      <th>count</th>\n",
       "    </tr>\n",
       "    <tr>\n",
       "      <th>racecourse</th>\n",
       "      <th>age_cond</th>\n",
       "      <th>distance</th>\n",
       "      <th>going</th>\n",
       "      <th>raceclass</th>\n",
       "      <th></th>\n",
       "      <th></th>\n",
       "      <th></th>\n",
       "    </tr>\n",
       "  </thead>\n",
       "  <tbody>\n",
       "    <tr>\n",
       "      <th rowspan=\"5\" valign=\"top\">1.0</th>\n",
       "      <th rowspan=\"5\" valign=\"top\">1</th>\n",
       "      <th rowspan=\"5\" valign=\"top\">5.0</th>\n",
       "      <th rowspan=\"3\" valign=\"top\">2</th>\n",
       "      <th>1.0</th>\n",
       "      <td>1.0</td>\n",
       "      <td>60.307500</td>\n",
       "      <td>12</td>\n",
       "    </tr>\n",
       "    <tr>\n",
       "      <th>2.0</th>\n",
       "      <td>2.0</td>\n",
       "      <td>59.815000</td>\n",
       "      <td>4</td>\n",
       "    </tr>\n",
       "    <tr>\n",
       "      <th>4.0</th>\n",
       "      <td>4.0</td>\n",
       "      <td>60.820000</td>\n",
       "      <td>1</td>\n",
       "    </tr>\n",
       "    <tr>\n",
       "      <th rowspan=\"2\" valign=\"top\">3</th>\n",
       "      <th>1.0</th>\n",
       "      <td>1.0</td>\n",
       "      <td>60.885652</td>\n",
       "      <td>23</td>\n",
       "    </tr>\n",
       "    <tr>\n",
       "      <th>2.0</th>\n",
       "      <td>2.0</td>\n",
       "      <td>61.697500</td>\n",
       "      <td>4</td>\n",
       "    </tr>\n",
       "  </tbody>\n",
       "</table>\n",
       "</div>"
      ],
      "text/plain": [
       "                                              raceclass    wintime  count\n",
       "racecourse age_cond distance going raceclass                             \n",
       "1.0        1        5.0      2     1.0              1.0  60.307500     12\n",
       "                                   2.0              2.0  59.815000      4\n",
       "                                   4.0              4.0  60.820000      1\n",
       "                             3     1.0              1.0  60.885652     23\n",
       "                                   2.0              2.0  61.697500      4"
      ]
     },
     "execution_count": 72,
     "metadata": {},
     "output_type": "execute_result"
    }
   ],
   "source": [
    "# Mean wintimes for raceclass under identical conditions\n",
    "raceclass_means = flt_times.groupby(['racecourse','age_cond','distance','going','raceclass']).wintime.mean()\n",
    "# Counts for each identical conditions group could come in handy\n",
    "raceclass_counts = flt_times.groupby(['racecourse','age_cond','distance','going','raceclass']).wintime.count()\n",
    "# The equivalent raceclasses. Mean() just gives the raceclass easily. \n",
    "raceclass_classes = flt_times.groupby(['racecourse','age_cond','distance','going','raceclass']).raceclass.mean()\n",
    "# Concatenate the two groupby series produced above to create a new dataframe\n",
    "raceclass_df = pd.concat([raceclass_classes, raceclass_means, raceclass_counts], axis=1)\n",
    "raceclass_df.columns = ['raceclass','wintime','count']\n",
    "raceclass_df.head()"
   ]
  },
  {
   "cell_type": "markdown",
   "metadata": {},
   "source": [
    "## Scale the Data"
   ]
  },
  {
   "cell_type": "code",
   "execution_count": 73,
   "metadata": {
    "collapsed": false
   },
   "outputs": [],
   "source": [
    "# scaler = MinMaxScaler()\n",
    "# newflt_times = flt_times[['racecourse','age_cond','raceclass','going','distance','wintime']]\n",
    "# newflt_times[:,('racecourse','age_cond','raceclass','going','distance','wintime')] = scaler.fit_transform(flt_times[['racecourse','age_cond','raceclass','going','distance','wintime']])\n",
    "# flt_times.head()"
   ]
  },
  {
   "cell_type": "markdown",
   "metadata": {},
   "source": [
    "I couldn't get the data scaling to work and in the end decided not to bother with it."
   ]
  },
  {
   "cell_type": "markdown",
   "metadata": {},
   "source": [
    "The linear regression calculations happens below.  \n",
    "flt_times is grouped by identical conditions and the regression calculations are applied to each of those groups."
   ]
  },
  {
   "cell_type": "markdown",
   "metadata": {},
   "source": [
    "## Calculate the Wintime Coefficients"
   ]
  },
  {
   "cell_type": "code",
   "execution_count": 85,
   "metadata": {
    "collapsed": true
   },
   "outputs": [],
   "source": [
    "# Alternative sklearn Linear Regression method (not used)\n",
    "# lm = LinearRegression()\n",
    "# lm.fit(wintimes_X, wintimes_y)\n",
    "# distance_reg = flt_times.groupby(['racecourse','age_cond','raceclass','going']).apply(lambda x: lm.fit(x['distance'], x['wintime']))"
   ]
  },
  {
   "cell_type": "code",
   "execution_count": 75,
   "metadata": {
    "collapsed": false,
    "scrolled": true
   },
   "outputs": [
    {
     "data": {
      "text/html": [
       "<div>\n",
       "<table border=\"1\" class=\"dataframe\">\n",
       "  <thead>\n",
       "    <tr style=\"text-align: right;\">\n",
       "      <th></th>\n",
       "      <th>slope</th>\n",
       "      <th>intercept</th>\n",
       "      <th>rvalue</th>\n",
       "      <th>pvalue</th>\n",
       "      <th>stderr</th>\n",
       "    </tr>\n",
       "  </thead>\n",
       "  <tbody>\n",
       "    <tr>\n",
       "      <th>0</th>\n",
       "      <td>13.752305</td>\n",
       "      <td>-8.407227</td>\n",
       "      <td>0.996322</td>\n",
       "      <td>2.361054e-30</td>\n",
       "      <td>0.227632</td>\n",
       "    </tr>\n",
       "    <tr>\n",
       "      <th>1</th>\n",
       "      <td>13.573036</td>\n",
       "      <td>-6.863788</td>\n",
       "      <td>0.996573</td>\n",
       "      <td>1.422401e-65</td>\n",
       "      <td>0.146662</td>\n",
       "    </tr>\n",
       "    <tr>\n",
       "      <th>2</th>\n",
       "      <td>13.975464</td>\n",
       "      <td>-8.218546</td>\n",
       "      <td>0.997447</td>\n",
       "      <td>1.022338e-26</td>\n",
       "      <td>0.213318</td>\n",
       "    </tr>\n",
       "    <tr>\n",
       "      <th>3</th>\n",
       "      <td>13.841898</td>\n",
       "      <td>-7.233449</td>\n",
       "      <td>0.997829</td>\n",
       "      <td>9.533920e-17</td>\n",
       "      <td>0.253379</td>\n",
       "    </tr>\n",
       "    <tr>\n",
       "      <th>4</th>\n",
       "      <td>14.573750</td>\n",
       "      <td>-10.349583</td>\n",
       "      <td>0.999289</td>\n",
       "      <td>7.583806e-07</td>\n",
       "      <td>0.274956</td>\n",
       "    </tr>\n",
       "  </tbody>\n",
       "</table>\n",
       "</div>"
      ],
      "text/plain": [
       "       slope  intercept    rvalue        pvalue    stderr\n",
       "0  13.752305  -8.407227  0.996322  2.361054e-30  0.227632\n",
       "1  13.573036  -6.863788  0.996573  1.422401e-65  0.146662\n",
       "2  13.975464  -8.218546  0.997447  1.022338e-26  0.213318\n",
       "3  13.841898  -7.233449  0.997829  9.533920e-17  0.253379\n",
       "4  14.573750 -10.349583  0.999289  7.583806e-07  0.274956"
      ]
     },
     "execution_count": 75,
     "metadata": {},
     "output_type": "execute_result"
    }
   ],
   "source": [
    "# stats.linregress returns a tuple of slope, intercept, r_value, p_value and std_err for each group\n",
    "# distance_reg = flt_times.groupby(['racecourse','age_cond','raceclass','going']).distance.transform(len) >= 5\n",
    "distance_reg = flt_times.groupby(['racecourse','age_cond','raceclass','going']).apply(lambda x: linregress(x['distance'], x['wintime']))\n",
    "# for easier data manipulation I put the tuples of regression calculations into a dataframe and reset the index\n",
    "distance_df = distance_reg.to_frame(name='tuple')\n",
    "distance_df = distance_df.reset_index(drop=True)\n",
    "# distance_df.head()\n",
    "# unpacking the tuple\n",
    "distance_calcs=pd.DataFrame(distance_df['tuple'].tolist())\n",
    "distance_calcs = distance_calcs.dropna(how='any')\n",
    "distance_calcs.head()\n",
    "# distance_calcs.to_csv('distance_calcs')"
   ]
  },
  {
   "cell_type": "markdown",
   "metadata": {},
   "source": [
    "Wintime increases as distance increases.\n",
    "There is a very strong correlation between distance and wintime."
   ]
  },
  {
   "cell_type": "code",
   "execution_count": 76,
   "metadata": {
    "collapsed": false
   },
   "outputs": [
    {
     "data": {
      "text/html": [
       "<div>\n",
       "<table border=\"1\" class=\"dataframe\">\n",
       "  <thead>\n",
       "    <tr style=\"text-align: right;\">\n",
       "      <th></th>\n",
       "      <th>slope</th>\n",
       "      <th>intercept</th>\n",
       "      <th>rvalue</th>\n",
       "      <th>pvalue</th>\n",
       "      <th>stderr</th>\n",
       "    </tr>\n",
       "  </thead>\n",
       "  <tbody>\n",
       "    <tr>\n",
       "      <th>0</th>\n",
       "      <td>0.373803</td>\n",
       "      <td>59.680052</td>\n",
       "      <td>0.452463</td>\n",
       "      <td>0.001243</td>\n",
       "      <td>0.108628</td>\n",
       "    </tr>\n",
       "    <tr>\n",
       "      <th>1</th>\n",
       "      <td>0.451000</td>\n",
       "      <td>73.220714</td>\n",
       "      <td>0.518874</td>\n",
       "      <td>0.000431</td>\n",
       "      <td>0.117483</td>\n",
       "    </tr>\n",
       "    <tr>\n",
       "      <th>2</th>\n",
       "      <td>0.688840</td>\n",
       "      <td>86.799890</td>\n",
       "      <td>0.784243</td>\n",
       "      <td>0.000009</td>\n",
       "      <td>0.118923</td>\n",
       "    </tr>\n",
       "    <tr>\n",
       "      <th>3</th>\n",
       "      <td>0.921944</td>\n",
       "      <td>98.252096</td>\n",
       "      <td>0.816110</td>\n",
       "      <td>0.000004</td>\n",
       "      <td>0.145979</td>\n",
       "    </tr>\n",
       "    <tr>\n",
       "      <th>4</th>\n",
       "      <td>0.867694</td>\n",
       "      <td>58.641178</td>\n",
       "      <td>0.898363</td>\n",
       "      <td>0.000030</td>\n",
       "      <td>0.127919</td>\n",
       "    </tr>\n",
       "  </tbody>\n",
       "</table>\n",
       "</div>"
      ],
      "text/plain": [
       "      slope  intercept    rvalue    pvalue    stderr\n",
       "0  0.373803  59.680052  0.452463  0.001243  0.108628\n",
       "1  0.451000  73.220714  0.518874  0.000431  0.117483\n",
       "2  0.688840  86.799890  0.784243  0.000009  0.118923\n",
       "3  0.921944  98.252096  0.816110  0.000004  0.145979\n",
       "4  0.867694  58.641178  0.898363  0.000030  0.127919"
      ]
     },
     "execution_count": 76,
     "metadata": {},
     "output_type": "execute_result"
    }
   ],
   "source": [
    "# stats.linregress returns tuples of (slope, intercept, r_value, p_value, std_err) for each group\n",
    "going_reg = flt_times.groupby(['racecourse','age_cond','raceclass','distance']).apply(lambda x: linregress(x['going'], x['wintime']))\n",
    "# for easier data manipulation I put the tuples of regression calculations into a dataframe and reset the index\n",
    "going_df = going_reg.to_frame(name='tuple')\n",
    "going_df = going_df.reset_index(drop=True)\n",
    "# going_df.head()\n",
    "# going_df.to_csv('going_df')\n",
    "# unpacking the tuple\n",
    "going_calcs=pd.DataFrame(going_df['tuple'].tolist())\n",
    "going_calcs = going_calcs.dropna(how='any')\n",
    "going_calcs.head()\n",
    "# going_calcs.to_csv('going_calcs')"
   ]
  },
  {
   "cell_type": "markdown",
   "metadata": {},
   "source": [
    "Wintime increases as going worsens.\n",
    "The adjustment is roughly about 0.5 seconds for decrease in change of going (e.g. good, not good-firm)."
   ]
  },
  {
   "cell_type": "code",
   "execution_count": 77,
   "metadata": {
    "collapsed": false
   },
   "outputs": [
    {
     "data": {
      "text/html": [
       "<div>\n",
       "<table border=\"1\" class=\"dataframe\">\n",
       "  <thead>\n",
       "    <tr style=\"text-align: right;\">\n",
       "      <th></th>\n",
       "      <th>slope</th>\n",
       "      <th>intercept</th>\n",
       "      <th>rvalue</th>\n",
       "      <th>pvalue</th>\n",
       "      <th>stderr</th>\n",
       "    </tr>\n",
       "  </thead>\n",
       "  <tbody>\n",
       "    <tr>\n",
       "      <th>0</th>\n",
       "      <td>0.016570</td>\n",
       "      <td>60.198372</td>\n",
       "      <td>0.014595</td>\n",
       "      <td>0.955663</td>\n",
       "      <td>0.293099</td>\n",
       "    </tr>\n",
       "    <tr>\n",
       "      <th>1</th>\n",
       "      <td>0.135289</td>\n",
       "      <td>73.943884</td>\n",
       "      <td>0.157130</td>\n",
       "      <td>0.546989</td>\n",
       "      <td>0.219548</td>\n",
       "    </tr>\n",
       "    <tr>\n",
       "      <th>2</th>\n",
       "      <td>-0.043614</td>\n",
       "      <td>88.987726</td>\n",
       "      <td>-0.057316</td>\n",
       "      <td>0.845689</td>\n",
       "      <td>0.219301</td>\n",
       "    </tr>\n",
       "    <tr>\n",
       "      <th>3</th>\n",
       "      <td>1.495000</td>\n",
       "      <td>99.505000</td>\n",
       "      <td>0.857544</td>\n",
       "      <td>0.142456</td>\n",
       "      <td>0.634133</td>\n",
       "    </tr>\n",
       "    <tr>\n",
       "      <th>4</th>\n",
       "      <td>0.337054</td>\n",
       "      <td>60.618721</td>\n",
       "      <td>0.300731</td>\n",
       "      <td>0.070511</td>\n",
       "      <td>0.180677</td>\n",
       "    </tr>\n",
       "  </tbody>\n",
       "</table>\n",
       "</div>"
      ],
      "text/plain": [
       "      slope  intercept    rvalue    pvalue    stderr\n",
       "0  0.016570  60.198372  0.014595  0.955663  0.293099\n",
       "1  0.135289  73.943884  0.157130  0.546989  0.219548\n",
       "2 -0.043614  88.987726 -0.057316  0.845689  0.219301\n",
       "3  1.495000  99.505000  0.857544  0.142456  0.634133\n",
       "4  0.337054  60.618721  0.300731  0.070511  0.180677"
      ]
     },
     "execution_count": 77,
     "metadata": {},
     "output_type": "execute_result"
    }
   ],
   "source": [
    "# stats.linregress returns tuples of (slope, intercept, r_value, p_value, std_err) for each group\n",
    "raceclass_reg = flt_times.groupby(['racecourse','age_cond','going','distance']).apply(lambda x: linregress(x['raceclass'], x['wintime']))\n",
    "# for easier data manipulation I put the tuples of regression calculations into a dataframe and reset the index\n",
    "raceclass_df = raceclass_reg.to_frame(name='tuple')\n",
    "raceclass_df = raceclass_df.reset_index(drop=True)\n",
    "# raceclass_df.head()\n",
    "# unpacking the tuple\n",
    "raceclass_calcs=pd.DataFrame(raceclass_df['tuple'].tolist())\n",
    "raceclass_calcs = raceclass_calcs.dropna(how='any')\n",
    "raceclass_calcs.head()\n",
    "# raceclass_calcs.to_csv('raceclass_calcs')\n",
    "# raceclass_df.to_csv('raceclass_df')"
   ]
  },
  {
   "cell_type": "markdown",
   "metadata": {},
   "source": [
    "Wintime increases as raceclass lowers.\n",
    "This is neither expected nor correct."
   ]
  },
  {
   "cell_type": "code",
   "execution_count": 78,
   "metadata": {
    "collapsed": false
   },
   "outputs": [
    {
     "data": {
      "text/html": [
       "<div>\n",
       "<table border=\"1\" class=\"dataframe\">\n",
       "  <thead>\n",
       "    <tr style=\"text-align: right;\">\n",
       "      <th></th>\n",
       "      <th>slope</th>\n",
       "      <th>intercept</th>\n",
       "      <th>rvalue</th>\n",
       "      <th>pvalue</th>\n",
       "      <th>stderr</th>\n",
       "    </tr>\n",
       "  </thead>\n",
       "  <tbody>\n",
       "    <tr>\n",
       "      <th>0</th>\n",
       "      <td>-0.290500</td>\n",
       "      <td>60.598000</td>\n",
       "      <td>-0.421824</td>\n",
       "      <td>0.091695</td>\n",
       "      <td>0.161221</td>\n",
       "    </tr>\n",
       "    <tr>\n",
       "      <th>1</th>\n",
       "      <td>-0.518212</td>\n",
       "      <td>74.471365</td>\n",
       "      <td>-0.508223</td>\n",
       "      <td>0.031281</td>\n",
       "      <td>0.219538</td>\n",
       "    </tr>\n",
       "    <tr>\n",
       "      <th>3</th>\n",
       "      <td>-2.202667</td>\n",
       "      <td>90.689333</td>\n",
       "      <td>-0.719989</td>\n",
       "      <td>0.044005</td>\n",
       "      <td>0.866758</td>\n",
       "    </tr>\n",
       "    <tr>\n",
       "      <th>4</th>\n",
       "      <td>-0.240492</td>\n",
       "      <td>100.030154</td>\n",
       "      <td>-0.168723</td>\n",
       "      <td>0.318156</td>\n",
       "      <td>0.237477</td>\n",
       "    </tr>\n",
       "    <tr>\n",
       "      <th>5</th>\n",
       "      <td>0.482273</td>\n",
       "      <td>123.826970</td>\n",
       "      <td>0.181213</td>\n",
       "      <td>0.518064</td>\n",
       "      <td>0.725908</td>\n",
       "    </tr>\n",
       "  </tbody>\n",
       "</table>\n",
       "</div>"
      ],
      "text/plain": [
       "      slope   intercept    rvalue    pvalue    stderr\n",
       "0 -0.290500   60.598000 -0.421824  0.091695  0.161221\n",
       "1 -0.518212   74.471365 -0.508223  0.031281  0.219538\n",
       "3 -2.202667   90.689333 -0.719989  0.044005  0.866758\n",
       "4 -0.240492  100.030154 -0.168723  0.318156  0.237477\n",
       "5  0.482273  123.826970  0.181213  0.518064  0.725908"
      ]
     },
     "execution_count": 78,
     "metadata": {},
     "output_type": "execute_result"
    }
   ],
   "source": [
    "# stats.linregress returns tuples of (slope, intercept, r_value, p_value, std_err) for each group\n",
    "age_cond_reg = flt_times.groupby(['racecourse','raceclass','going','distance']).apply(lambda x: linregress(x['age_cond'], x['wintime']))\n",
    "# for easier data manipulation I put the tuples of regression calculations into a dataframe and reset the index\n",
    "age_cond_df = age_cond_reg.to_frame(name='tuple')\n",
    "age_cond_df = age_cond_df.reset_index(drop=True)\n",
    "# age_cond_df.head()\n",
    "# unpacking the tuple\n",
    "age_cond_calcs=pd.DataFrame(age_cond_df['tuple'].tolist())\n",
    "age_cond_calcs = age_cond_calcs.dropna(how='any')\n",
    "age_cond_calcs.head()\n",
    "# age_cond_calcs.to_csv('age_cond_calcs')"
   ]
  },
  {
   "cell_type": "markdown",
   "metadata": {},
   "source": [
    "Wintime decreases as horses get older.\n",
    "This is not expected either."
   ]
  },
  {
   "cell_type": "code",
   "execution_count": 79,
   "metadata": {
    "collapsed": false
   },
   "outputs": [
    {
     "data": {
      "text/html": [
       "<div>\n",
       "<table border=\"1\" class=\"dataframe\">\n",
       "  <thead>\n",
       "    <tr style=\"text-align: right;\">\n",
       "      <th></th>\n",
       "      <th>slope</th>\n",
       "      <th>intercept</th>\n",
       "      <th>rvalue</th>\n",
       "      <th>pvalue</th>\n",
       "      <th>stderr</th>\n",
       "    </tr>\n",
       "  </thead>\n",
       "  <tbody>\n",
       "    <tr>\n",
       "      <th>1</th>\n",
       "      <td>-0.046978</td>\n",
       "      <td>60.395292</td>\n",
       "      <td>-0.628878</td>\n",
       "      <td>0.015988</td>\n",
       "      <td>0.016766</td>\n",
       "    </tr>\n",
       "    <tr>\n",
       "      <th>4</th>\n",
       "      <td>-0.047576</td>\n",
       "      <td>73.613751</td>\n",
       "      <td>-0.587338</td>\n",
       "      <td>0.003212</td>\n",
       "      <td>0.014306</td>\n",
       "    </tr>\n",
       "    <tr>\n",
       "      <th>7</th>\n",
       "      <td>-0.050953</td>\n",
       "      <td>87.313274</td>\n",
       "      <td>-0.590536</td>\n",
       "      <td>0.055769</td>\n",
       "      <td>0.023210</td>\n",
       "    </tr>\n",
       "    <tr>\n",
       "      <th>9</th>\n",
       "      <td>0.128095</td>\n",
       "      <td>100.871905</td>\n",
       "      <td>0.992600</td>\n",
       "      <td>0.077498</td>\n",
       "      <td>0.015671</td>\n",
       "    </tr>\n",
       "    <tr>\n",
       "      <th>10</th>\n",
       "      <td>-0.038268</td>\n",
       "      <td>60.447856</td>\n",
       "      <td>-0.482616</td>\n",
       "      <td>0.000513</td>\n",
       "      <td>0.010239</td>\n",
       "    </tr>\n",
       "  </tbody>\n",
       "</table>\n",
       "</div>"
      ],
      "text/plain": [
       "       slope   intercept    rvalue    pvalue    stderr\n",
       "1  -0.046978   60.395292 -0.628878  0.015988  0.016766\n",
       "4  -0.047576   73.613751 -0.587338  0.003212  0.014306\n",
       "7  -0.050953   87.313274 -0.590536  0.055769  0.023210\n",
       "9   0.128095  100.871905  0.992600  0.077498  0.015671\n",
       "10 -0.038268   60.447856 -0.482616  0.000513  0.010239"
      ]
     },
     "execution_count": 79,
     "metadata": {},
     "output_type": "execute_result"
    }
   ],
   "source": [
    "# stats.linregress returns tuples of (slope, intercept, r_value, p_value, std_err) for each group\n",
    "racecourse_reg = flt_times.groupby(['age_cond','raceclass','going','distance']).apply(lambda x: linregress(x['racecourse'], x['wintime']))\n",
    "# for easier data manipulation I put the tuples of regression calculations into a dataframe and reset the index\n",
    "racecourse_df = racecourse_reg.to_frame(name='tuple')\n",
    "racecourse_df = racecourse_df.reset_index(drop=True)\n",
    "# racecourse_df.head()\n",
    "# unpacking the tuple\n",
    "racecourse_calcs=pd.DataFrame(racecourse_df['tuple'].tolist())\n",
    "racecourse_calcs = racecourse_calcs.dropna(how='any')\n",
    "racecourse_calcs.head()\n",
    "# racecourse_calcs.to_csv('racecourse_calcs')"
   ]
  },
  {
   "cell_type": "markdown",
   "metadata": {},
   "source": [
    "Racecourse does have an effect on wintime but the trend is not obvious and not linear on the basis of sorting racecourses alphabetically."
   ]
  },
  {
   "cell_type": "markdown",
   "metadata": {},
   "source": [
    "## Get the Average Slope, R-value, P-value, etc. "
   ]
  },
  {
   "cell_type": "code",
   "execution_count": 80,
   "metadata": {
    "collapsed": false
   },
   "outputs": [
    {
     "data": {
      "text/html": [
       "<div>\n",
       "<table border=\"1\" class=\"dataframe\">\n",
       "  <thead>\n",
       "    <tr style=\"text-align: right;\">\n",
       "      <th></th>\n",
       "      <th>slope</th>\n",
       "      <th>intercept</th>\n",
       "      <th>rvalue</th>\n",
       "      <th>pvalue</th>\n",
       "      <th>stderr</th>\n",
       "    </tr>\n",
       "  </thead>\n",
       "  <tbody>\n",
       "    <tr>\n",
       "      <th>count</th>\n",
       "      <td>2920.000000</td>\n",
       "      <td>2920.000000</td>\n",
       "      <td>2920.000000</td>\n",
       "      <td>2.920000e+03</td>\n",
       "      <td>2.920000e+03</td>\n",
       "    </tr>\n",
       "    <tr>\n",
       "      <th>mean</th>\n",
       "      <td>13.775758</td>\n",
       "      <td>-7.932047</td>\n",
       "      <td>0.992590</td>\n",
       "      <td>5.274592e-03</td>\n",
       "      <td>1.010488e+12</td>\n",
       "    </tr>\n",
       "    <tr>\n",
       "      <th>std</th>\n",
       "      <td>7.900751</td>\n",
       "      <td>68.151869</td>\n",
       "      <td>0.081242</td>\n",
       "      <td>5.224859e-02</td>\n",
       "      <td>2.516713e+13</td>\n",
       "    </tr>\n",
       "    <tr>\n",
       "      <th>min</th>\n",
       "      <td>-391.000000</td>\n",
       "      <td>-52.728718</td>\n",
       "      <td>-0.890257</td>\n",
       "      <td>0.000000e+00</td>\n",
       "      <td>2.079293e-03</td>\n",
       "    </tr>\n",
       "    <tr>\n",
       "      <th>25%</th>\n",
       "      <td>13.549615</td>\n",
       "      <td>-12.453255</td>\n",
       "      <td>0.997450</td>\n",
       "      <td>1.469144e-33</td>\n",
       "      <td>1.218846e-01</td>\n",
       "    </tr>\n",
       "    <tr>\n",
       "      <th>50%</th>\n",
       "      <td>13.932238</td>\n",
       "      <td>-9.772102</td>\n",
       "      <td>0.998705</td>\n",
       "      <td>5.705264e-15</td>\n",
       "      <td>2.033695e-01</td>\n",
       "    </tr>\n",
       "    <tr>\n",
       "      <th>75%</th>\n",
       "      <td>14.401079</td>\n",
       "      <td>-7.186560</td>\n",
       "      <td>0.999325</td>\n",
       "      <td>1.099418e-06</td>\n",
       "      <td>3.545175e-01</td>\n",
       "    </tr>\n",
       "    <tr>\n",
       "      <th>max</th>\n",
       "      <td>18.799145</td>\n",
       "      <td>3231.600000</td>\n",
       "      <td>1.000000</td>\n",
       "      <td>1.000000e+00</td>\n",
       "      <td>9.381861e+14</td>\n",
       "    </tr>\n",
       "  </tbody>\n",
       "</table>\n",
       "</div>"
      ],
      "text/plain": [
       "             slope    intercept       rvalue        pvalue        stderr\n",
       "count  2920.000000  2920.000000  2920.000000  2.920000e+03  2.920000e+03\n",
       "mean     13.775758    -7.932047     0.992590  5.274592e-03  1.010488e+12\n",
       "std       7.900751    68.151869     0.081242  5.224859e-02  2.516713e+13\n",
       "min    -391.000000   -52.728718    -0.890257  0.000000e+00  2.079293e-03\n",
       "25%      13.549615   -12.453255     0.997450  1.469144e-33  1.218846e-01\n",
       "50%      13.932238    -9.772102     0.998705  5.705264e-15  2.033695e-01\n",
       "75%      14.401079    -7.186560     0.999325  1.099418e-06  3.545175e-01\n",
       "max      18.799145  3231.600000     1.000000  1.000000e+00  9.381861e+14"
      ]
     },
     "execution_count": 80,
     "metadata": {},
     "output_type": "execute_result"
    }
   ],
   "source": [
    "distance_calcs.describe()"
   ]
  },
  {
   "cell_type": "markdown",
   "metadata": {},
   "source": [
    "The average increase in furlongs is 13 or 14 seconds. Not very useful but it shows the basic regression calculations are correct. "
   ]
  },
  {
   "cell_type": "code",
   "execution_count": 81,
   "metadata": {
    "collapsed": false
   },
   "outputs": [
    {
     "data": {
      "text/html": [
       "<div>\n",
       "<table border=\"1\" class=\"dataframe\">\n",
       "  <thead>\n",
       "    <tr style=\"text-align: right;\">\n",
       "      <th></th>\n",
       "      <th>slope</th>\n",
       "      <th>intercept</th>\n",
       "      <th>rvalue</th>\n",
       "      <th>pvalue</th>\n",
       "      <th>stderr</th>\n",
       "    </tr>\n",
       "  </thead>\n",
       "  <tbody>\n",
       "    <tr>\n",
       "      <th>count</th>\n",
       "      <td>3492.000000</td>\n",
       "      <td>3492.000000</td>\n",
       "      <td>3492.000000</td>\n",
       "      <td>3.492000e+03</td>\n",
       "      <td>3492.000000</td>\n",
       "    </tr>\n",
       "    <tr>\n",
       "      <th>mean</th>\n",
       "      <td>1.038164</td>\n",
       "      <td>107.439930</td>\n",
       "      <td>0.696540</td>\n",
       "      <td>8.674646e-02</td>\n",
       "      <td>0.318496</td>\n",
       "    </tr>\n",
       "    <tr>\n",
       "      <th>std</th>\n",
       "      <td>0.747055</td>\n",
       "      <td>42.684129</td>\n",
       "      <td>0.274904</td>\n",
       "      <td>1.877492e-01</td>\n",
       "      <td>0.375998</td>\n",
       "    </tr>\n",
       "    <tr>\n",
       "      <th>min</th>\n",
       "      <td>-2.823333</td>\n",
       "      <td>50.815333</td>\n",
       "      <td>-0.996820</td>\n",
       "      <td>2.470811e-34</td>\n",
       "      <td>0.000000</td>\n",
       "    </tr>\n",
       "    <tr>\n",
       "      <th>25%</th>\n",
       "      <td>0.594241</td>\n",
       "      <td>71.754821</td>\n",
       "      <td>0.594887</td>\n",
       "      <td>4.011178e-06</td>\n",
       "      <td>0.129109</td>\n",
       "    </tr>\n",
       "    <tr>\n",
       "      <th>50%</th>\n",
       "      <td>0.909200</td>\n",
       "      <td>96.458095</td>\n",
       "      <td>0.781709</td>\n",
       "      <td>1.923553e-03</td>\n",
       "      <td>0.213427</td>\n",
       "    </tr>\n",
       "    <tr>\n",
       "      <th>75%</th>\n",
       "      <td>1.333951</td>\n",
       "      <td>130.445966</td>\n",
       "      <td>0.870207</td>\n",
       "      <td>6.016664e-02</td>\n",
       "      <td>0.370706</td>\n",
       "    </tr>\n",
       "    <tr>\n",
       "      <th>max</th>\n",
       "      <td>6.722500</td>\n",
       "      <td>286.109655</td>\n",
       "      <td>1.000000</td>\n",
       "      <td>9.952154e-01</td>\n",
       "      <td>5.724428</td>\n",
       "    </tr>\n",
       "  </tbody>\n",
       "</table>\n",
       "</div>"
      ],
      "text/plain": [
       "             slope    intercept       rvalue        pvalue       stderr\n",
       "count  3492.000000  3492.000000  3492.000000  3.492000e+03  3492.000000\n",
       "mean      1.038164   107.439930     0.696540  8.674646e-02     0.318496\n",
       "std       0.747055    42.684129     0.274904  1.877492e-01     0.375998\n",
       "min      -2.823333    50.815333    -0.996820  2.470811e-34     0.000000\n",
       "25%       0.594241    71.754821     0.594887  4.011178e-06     0.129109\n",
       "50%       0.909200    96.458095     0.781709  1.923553e-03     0.213427\n",
       "75%       1.333951   130.445966     0.870207  6.016664e-02     0.370706\n",
       "max       6.722500   286.109655     1.000000  9.952154e-01     5.724428"
      ]
     },
     "execution_count": 81,
     "metadata": {},
     "output_type": "execute_result"
    }
   ],
   "source": [
    "going_calcs.describe()"
   ]
  },
  {
   "cell_type": "markdown",
   "metadata": {},
   "source": [
    "For each change in going adding 0.9 seconds sounds reasonable, except when you consider this will change with distance. Making virtually all this notebook redundant!"
   ]
  },
  {
   "cell_type": "code",
   "execution_count": 82,
   "metadata": {
    "collapsed": false
   },
   "outputs": [
    {
     "data": {
      "text/html": [
       "<div>\n",
       "<table border=\"1\" class=\"dataframe\">\n",
       "  <thead>\n",
       "    <tr style=\"text-align: right;\">\n",
       "      <th></th>\n",
       "      <th>slope</th>\n",
       "      <th>intercept</th>\n",
       "      <th>rvalue</th>\n",
       "      <th>pvalue</th>\n",
       "      <th>stderr</th>\n",
       "    </tr>\n",
       "  </thead>\n",
       "  <tbody>\n",
       "    <tr>\n",
       "      <th>count</th>\n",
       "      <td>3885.000000</td>\n",
       "      <td>3885.000000</td>\n",
       "      <td>3885.000000</td>\n",
       "      <td>3.885000e+03</td>\n",
       "      <td>3885.000000</td>\n",
       "    </tr>\n",
       "    <tr>\n",
       "      <th>mean</th>\n",
       "      <td>0.424169</td>\n",
       "      <td>109.752063</td>\n",
       "      <td>0.258578</td>\n",
       "      <td>3.440479e-01</td>\n",
       "      <td>0.667900</td>\n",
       "    </tr>\n",
       "    <tr>\n",
       "      <th>std</th>\n",
       "      <td>1.091652</td>\n",
       "      <td>43.203337</td>\n",
       "      <td>0.414225</td>\n",
       "      <td>3.053390e-01</td>\n",
       "      <td>0.777921</td>\n",
       "    </tr>\n",
       "    <tr>\n",
       "      <th>min</th>\n",
       "      <td>-8.543333</td>\n",
       "      <td>49.125000</td>\n",
       "      <td>-0.999961</td>\n",
       "      <td>2.751127e-20</td>\n",
       "      <td>0.005774</td>\n",
       "    </tr>\n",
       "    <tr>\n",
       "      <th>25%</th>\n",
       "      <td>0.057882</td>\n",
       "      <td>73.960741</td>\n",
       "      <td>0.043703</td>\n",
       "      <td>5.794169e-02</td>\n",
       "      <td>0.229059</td>\n",
       "    </tr>\n",
       "    <tr>\n",
       "      <th>50%</th>\n",
       "      <td>0.384153</td>\n",
       "      <td>99.063601</td>\n",
       "      <td>0.313280</td>\n",
       "      <td>2.632450e-01</td>\n",
       "      <td>0.416437</td>\n",
       "    </tr>\n",
       "    <tr>\n",
       "      <th>75%</th>\n",
       "      <td>0.773056</td>\n",
       "      <td>135.129091</td>\n",
       "      <td>0.544879</td>\n",
       "      <td>5.843916e-01</td>\n",
       "      <td>0.800180</td>\n",
       "    </tr>\n",
       "    <tr>\n",
       "      <th>max</th>\n",
       "      <td>10.522500</td>\n",
       "      <td>279.166667</td>\n",
       "      <td>0.999953</td>\n",
       "      <td>9.994890e-01</td>\n",
       "      <td>10.288382</td>\n",
       "    </tr>\n",
       "  </tbody>\n",
       "</table>\n",
       "</div>"
      ],
      "text/plain": [
       "             slope    intercept       rvalue        pvalue       stderr\n",
       "count  3885.000000  3885.000000  3885.000000  3.885000e+03  3885.000000\n",
       "mean      0.424169   109.752063     0.258578  3.440479e-01     0.667900\n",
       "std       1.091652    43.203337     0.414225  3.053390e-01     0.777921\n",
       "min      -8.543333    49.125000    -0.999961  2.751127e-20     0.005774\n",
       "25%       0.057882    73.960741     0.043703  5.794169e-02     0.229059\n",
       "50%       0.384153    99.063601     0.313280  2.632450e-01     0.416437\n",
       "75%       0.773056   135.129091     0.544879  5.843916e-01     0.800180\n",
       "max      10.522500   279.166667     0.999953  9.994890e-01    10.288382"
      ]
     },
     "execution_count": 82,
     "metadata": {},
     "output_type": "execute_result"
    }
   ],
   "source": [
    "raceclass_calcs.describe()"
   ]
  },
  {
   "cell_type": "markdown",
   "metadata": {
    "collapsed": true
   },
   "source": [
    "For each change in raceclass adding 0.38 seconds sounds reasonable, except when you consider this will change with distance. Making virtually all this notebook redundant!\n"
   ]
  },
  {
   "cell_type": "code",
   "execution_count": 83,
   "metadata": {
    "collapsed": false
   },
   "outputs": [
    {
     "data": {
      "text/html": [
       "<div>\n",
       "<table border=\"1\" class=\"dataframe\">\n",
       "  <thead>\n",
       "    <tr style=\"text-align: right;\">\n",
       "      <th></th>\n",
       "      <th>slope</th>\n",
       "      <th>intercept</th>\n",
       "      <th>rvalue</th>\n",
       "      <th>pvalue</th>\n",
       "      <th>stderr</th>\n",
       "    </tr>\n",
       "  </thead>\n",
       "  <tbody>\n",
       "    <tr>\n",
       "      <th>count</th>\n",
       "      <td>4079.000000</td>\n",
       "      <td>4079.000000</td>\n",
       "      <td>4079.000000</td>\n",
       "      <td>4.079000e+03</td>\n",
       "      <td>4079.000000</td>\n",
       "    </tr>\n",
       "    <tr>\n",
       "      <th>mean</th>\n",
       "      <td>-0.295877</td>\n",
       "      <td>110.769599</td>\n",
       "      <td>-0.216807</td>\n",
       "      <td>3.751685e-01</td>\n",
       "      <td>0.690467</td>\n",
       "    </tr>\n",
       "    <tr>\n",
       "      <th>std</th>\n",
       "      <td>1.155859</td>\n",
       "      <td>42.253808</td>\n",
       "      <td>0.432138</td>\n",
       "      <td>3.114438e-01</td>\n",
       "      <td>0.847474</td>\n",
       "    </tr>\n",
       "    <tr>\n",
       "      <th>min</th>\n",
       "      <td>-10.070000</td>\n",
       "      <td>53.355000</td>\n",
       "      <td>-1.000000</td>\n",
       "      <td>2.804835e-22</td>\n",
       "      <td>0.000000</td>\n",
       "    </tr>\n",
       "    <tr>\n",
       "      <th>25%</th>\n",
       "      <td>-0.612782</td>\n",
       "      <td>75.408719</td>\n",
       "      <td>-0.513675</td>\n",
       "      <td>8.245486e-02</td>\n",
       "      <td>0.209137</td>\n",
       "    </tr>\n",
       "    <tr>\n",
       "      <th>50%</th>\n",
       "      <td>-0.297135</td>\n",
       "      <td>100.854634</td>\n",
       "      <td>-0.278623</td>\n",
       "      <td>3.084503e-01</td>\n",
       "      <td>0.392598</td>\n",
       "    </tr>\n",
       "    <tr>\n",
       "      <th>75%</th>\n",
       "      <td>0.043234</td>\n",
       "      <td>135.235890</td>\n",
       "      <td>0.033800</td>\n",
       "      <td>6.441591e-01</td>\n",
       "      <td>0.805612</td>\n",
       "    </tr>\n",
       "    <tr>\n",
       "      <th>max</th>\n",
       "      <td>9.043333</td>\n",
       "      <td>280.405000</td>\n",
       "      <td>1.000000</td>\n",
       "      <td>1.000000e+00</td>\n",
       "      <td>8.363116</td>\n",
       "    </tr>\n",
       "  </tbody>\n",
       "</table>\n",
       "</div>"
      ],
      "text/plain": [
       "             slope    intercept       rvalue        pvalue       stderr\n",
       "count  4079.000000  4079.000000  4079.000000  4.079000e+03  4079.000000\n",
       "mean     -0.295877   110.769599    -0.216807  3.751685e-01     0.690467\n",
       "std       1.155859    42.253808     0.432138  3.114438e-01     0.847474\n",
       "min     -10.070000    53.355000    -1.000000  2.804835e-22     0.000000\n",
       "25%      -0.612782    75.408719    -0.513675  8.245486e-02     0.209137\n",
       "50%      -0.297135   100.854634    -0.278623  3.084503e-01     0.392598\n",
       "75%       0.043234   135.235890     0.033800  6.441591e-01     0.805612\n",
       "max       9.043333   280.405000     1.000000  1.000000e+00     8.363116"
      ]
     },
     "execution_count": 83,
     "metadata": {},
     "output_type": "execute_result"
    }
   ],
   "source": [
    "age_cond_calcs.describe()"
   ]
  },
  {
   "cell_type": "markdown",
   "metadata": {},
   "source": [
    "The age condition results don't make much sense to me. Not sure why.\n"
   ]
  },
  {
   "cell_type": "code",
   "execution_count": 84,
   "metadata": {
    "collapsed": false
   },
   "outputs": [
    {
     "data": {
      "text/html": [
       "<div>\n",
       "<table border=\"1\" class=\"dataframe\">\n",
       "  <thead>\n",
       "    <tr style=\"text-align: right;\">\n",
       "      <th></th>\n",
       "      <th>slope</th>\n",
       "      <th>intercept</th>\n",
       "      <th>rvalue</th>\n",
       "      <th>pvalue</th>\n",
       "      <th>stderr</th>\n",
       "    </tr>\n",
       "  </thead>\n",
       "  <tbody>\n",
       "    <tr>\n",
       "      <th>count</th>\n",
       "      <td>1637.000000</td>\n",
       "      <td>1637.000000</td>\n",
       "      <td>1637.000000</td>\n",
       "      <td>1.637000e+03</td>\n",
       "      <td>1637.000000</td>\n",
       "    </tr>\n",
       "    <tr>\n",
       "      <th>mean</th>\n",
       "      <td>0.042723</td>\n",
       "      <td>108.364871</td>\n",
       "      <td>-0.010420</td>\n",
       "      <td>2.434446e-01</td>\n",
       "      <td>0.088359</td>\n",
       "    </tr>\n",
       "    <tr>\n",
       "      <th>std</th>\n",
       "      <td>0.561105</td>\n",
       "      <td>42.202761</td>\n",
       "      <td>0.589351</td>\n",
       "      <td>2.965511e-01</td>\n",
       "      <td>0.226925</td>\n",
       "    </tr>\n",
       "    <tr>\n",
       "      <th>min</th>\n",
       "      <td>-6.015000</td>\n",
       "      <td>-16.140000</td>\n",
       "      <td>-0.999998</td>\n",
       "      <td>2.740599e-100</td>\n",
       "      <td>0.000053</td>\n",
       "    </tr>\n",
       "    <tr>\n",
       "      <th>25%</th>\n",
       "      <td>-0.058700</td>\n",
       "      <td>76.177129</td>\n",
       "      <td>-0.477999</td>\n",
       "      <td>4.179993e-03</td>\n",
       "      <td>0.016983</td>\n",
       "    </tr>\n",
       "    <tr>\n",
       "      <th>50%</th>\n",
       "      <td>-0.014764</td>\n",
       "      <td>99.307775</td>\n",
       "      <td>-0.125337</td>\n",
       "      <td>8.962976e-02</td>\n",
       "      <td>0.031452</td>\n",
       "    </tr>\n",
       "    <tr>\n",
       "      <th>75%</th>\n",
       "      <td>0.095893</td>\n",
       "      <td>131.364980</td>\n",
       "      <td>0.585746</td>\n",
       "      <td>4.290927e-01</td>\n",
       "      <td>0.064379</td>\n",
       "    </tr>\n",
       "    <tr>\n",
       "      <th>max</th>\n",
       "      <td>9.220000</td>\n",
       "      <td>306.000000</td>\n",
       "      <td>0.999860</td>\n",
       "      <td>9.995270e-01</td>\n",
       "      <td>3.780494</td>\n",
       "    </tr>\n",
       "  </tbody>\n",
       "</table>\n",
       "</div>"
      ],
      "text/plain": [
       "             slope    intercept       rvalue         pvalue       stderr\n",
       "count  1637.000000  1637.000000  1637.000000   1.637000e+03  1637.000000\n",
       "mean      0.042723   108.364871    -0.010420   2.434446e-01     0.088359\n",
       "std       0.561105    42.202761     0.589351   2.965511e-01     0.226925\n",
       "min      -6.015000   -16.140000    -0.999998  2.740599e-100     0.000053\n",
       "25%      -0.058700    76.177129    -0.477999   4.179993e-03     0.016983\n",
       "50%      -0.014764    99.307775    -0.125337   8.962976e-02     0.031452\n",
       "75%       0.095893   131.364980     0.585746   4.290927e-01     0.064379\n",
       "max       9.220000   306.000000     0.999860   9.995270e-01     3.780494"
      ]
     },
     "execution_count": 84,
     "metadata": {},
     "output_type": "execute_result"
    }
   ],
   "source": [
    "racecourse_calcs.describe()"
   ]
  },
  {
   "cell_type": "markdown",
   "metadata": {},
   "source": [
    "Not very useful."
   ]
  },
  {
   "cell_type": "markdown",
   "metadata": {},
   "source": [
    "## Conclusion"
   ]
  },
  {
   "cell_type": "markdown",
   "metadata": {},
   "source": [
    "I finally managed to run regression techniques on grouped data and this feels like an achievement. However, I realise now that such calculations are not really applicable. My next notebook approach will be to work more directly with producing and enhancing standard times."
   ]
  },
  {
   "cell_type": "markdown",
   "metadata": {},
   "source": [
    "## Author : Benjamin Woodling\n",
    "## Update: 09.09.2016"
   ]
  },
  {
   "cell_type": "code",
   "execution_count": null,
   "metadata": {
    "collapsed": true
   },
   "outputs": [],
   "source": []
  }
 ],
 "metadata": {
  "kernelspec": {
   "display_name": "Python 2",
   "language": "python",
   "name": "python2"
  },
  "language_info": {
   "codemirror_mode": {
    "name": "ipython",
    "version": 2
   },
   "file_extension": ".py",
   "mimetype": "text/x-python",
   "name": "python",
   "nbconvert_exporter": "python",
   "pygments_lexer": "ipython2",
   "version": "2.7.12"
  }
 },
 "nbformat": 4,
 "nbformat_minor": 0
}
