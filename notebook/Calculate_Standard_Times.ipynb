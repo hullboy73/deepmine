{
 "cells": [
  {
   "cell_type": "markdown",
   "metadata": {},
   "source": [
    "# Calculate Standard Times"
   ]
  },
  {
   "cell_type": "markdown",
   "metadata": {},
   "source": [
    "# Outline"
   ]
  },
  {
   "cell_type": "markdown",
   "metadata": {},
   "source": [
    "I have collected a body of wintimes from 2000-2015 (about 170,000 races). I have attempted to run various analyses on them in the previous notebooks:  \n",
    "\n",
    "+ Calculate Standard Times\n",
    "+ Calculate Standard Times Part Two\n",
    "+ Calculate Wintime Coefficients  \n",
    "\n",
    "This notebook is the authoritative and most recent attempt at calculating a body of Standard Times."
   ]
  },
  {
   "cell_type": "code",
   "execution_count": 85,
   "metadata": {
    "collapsed": true
   },
   "outputs": [],
   "source": [
    "# set up, imports and configuration\n",
    "%matplotlib inline\n",
    "import numpy as np\n",
    "import pandas as pd\n",
    "import matplotlib.pyplot as plt\n",
    "from scipy.stats import linregress\n",
    "from sklearn import preprocessing\n",
    "from sklearn.linear_model import LinearRegression\n",
    "from sklearn.preprocessing import MinMaxScaler\n",
    "# plt.rcParams['agg.path.chunksize'] = 10000\n",
    "plt.rcParams['figure.figsize'] = (15, 5)\n",
    "plt.rcParams['font.family'] = 'sans-serif'"
   ]
  },
  {
   "cell_type": "markdown",
   "metadata": {},
   "source": [
    "## Get the Data"
   ]
  },
  {
   "cell_type": "code",
   "execution_count": 86,
   "metadata": {
    "collapsed": false
   },
   "outputs": [
    {
     "data": {
      "text/plain": [
       "170727"
      ]
     },
     "execution_count": 86,
     "metadata": {},
     "output_type": "execute_result"
    }
   ],
   "source": [
    "# Read wintimes from csv file\n",
    "wintimes = pd.read_csv(\"/home/benjamin/Documents/form_study/analysis/deepmine/csv/wintimes.csv\")\n",
    "len(wintimes)"
   ]
  },
  {
   "cell_type": "markdown",
   "metadata": {},
   "source": [
    "## Clean the Data"
   ]
  },
  {
   "cell_type": "code",
   "execution_count": 87,
   "metadata": {
    "collapsed": false
   },
   "outputs": [
    {
     "name": "stdout",
     "output_type": "stream",
     "text": [
      "<class 'pandas.core.frame.DataFrame'>\n",
      "RangeIndex: 170727 entries, 0 to 170726\n",
      "Data columns (total 11 columns):\n",
      "Unnamed: 0    170727 non-null int64\n",
      "raceID        170727 non-null float64\n",
      "racedate      170727 non-null object\n",
      "racecourse    170727 non-null float64\n",
      "distance      170727 non-null float64\n",
      "going         170727 non-null object\n",
      "raceclass     136046 non-null float64\n",
      "racetype      170727 non-null object\n",
      "racetype2     170727 non-null object\n",
      "age_cond      170727 non-null object\n",
      "wintime       170581 non-null float64\n",
      "dtypes: float64(5), int64(1), object(5)\n",
      "memory usage: 14.3+ MB\n"
     ]
    }
   ],
   "source": [
    "wintimes.info()"
   ]
  },
  {
   "cell_type": "code",
   "execution_count": 88,
   "metadata": {
    "collapsed": true
   },
   "outputs": [],
   "source": [
    "# drop nas from wintimes\n",
    "wintimes = wintimes.dropna(subset=['wintime'], how='any')"
   ]
  },
  {
   "cell_type": "code",
   "execution_count": 89,
   "metadata": {
    "collapsed": true
   },
   "outputs": [],
   "source": [
    "# convert going to a numbered dict\n",
    "goingDict = {'firm': 1, 'fast': 2, 'good-firm': 3, 'good': 4, 'standard': 5, 'good-soft': 6, 'soft': 7, 'slow': 8, 'heavy': 9}\n",
    "wintimes = wintimes.replace({\"going\": goingDict})"
   ]
  },
  {
   "cell_type": "code",
   "execution_count": 90,
   "metadata": {
    "collapsed": true
   },
   "outputs": [],
   "source": [
    "# convert racetype2 to a numbered dict\n",
    "wintimes.racetype2.value_counts()\n",
    "type2dict = {'Flat': 1, 'Hurdle': 2, 'Chase' : 3, 'National Hunt Flat' : 4}\n",
    "wintimes = wintimes.replace({\"racetype2\": type2dict})"
   ]
  },
  {
   "cell_type": "code",
   "execution_count": 91,
   "metadata": {
    "collapsed": false
   },
   "outputs": [
    {
     "data": {
      "text/plain": [
       "3    88612\n",
       "4    39573\n",
       "2    22636\n",
       "1    19629\n",
       "Name: age_cond, dtype: int64"
      ]
     },
     "execution_count": 91,
     "metadata": {},
     "output_type": "execute_result"
    }
   ],
   "source": [
    "# reduce number of age_conditions categories\n",
    "age_cond_dict = {'9yo+': 'N/A', '2yo+': 'N/A', '0yo+': 'N/A', '7yo+' : 'N/A', '8yo' : 'N/A', '8yo+': 'N/A',\n",
    "                '4yo': '4yo+', '6yo+': '4yo+', '5yo': '4yo+', '5yo+': '4yo+', '6yo': '4yo+'}\n",
    "wintimes = wintimes.replace({\"age_cond\": age_cond_dict})\n",
    "wintimes = wintimes.drop(wintimes[wintimes.age_cond=='N/A'].index)\n",
    "# convert age conditions to a numbered dict\n",
    "age_cond_dict = {'2yo': 1, '3yo': 2, '4yo+' : 3, '3yo+': 4}\n",
    "wintimes = wintimes.replace({\"age_cond\": age_cond_dict})\n",
    "wintimes.age_cond.value_counts()"
   ]
  },
  {
   "cell_type": "code",
   "execution_count": 92,
   "metadata": {
    "collapsed": true
   },
   "outputs": [],
   "source": [
    "# Fairly simple to convert the race dates to pandas datetime format \n",
    "wintimes['racedate'] = pd.to_datetime(wintimes['racedate'])"
   ]
  },
  {
   "cell_type": "code",
   "execution_count": 93,
   "metadata": {
    "collapsed": true
   },
   "outputs": [],
   "source": [
    "# Drop some columns and rename racetype2 to racetype\n",
    "wintimes.drop(['raceID','racetype','Unnamed: 0'], axis=1, inplace=True)\n",
    "wintimes.rename(columns={'racetype2':'racetype'}, inplace=True)"
   ]
  },
  {
   "cell_type": "code",
   "execution_count": 94,
   "metadata": {
    "collapsed": false
   },
   "outputs": [
    {
     "data": {
      "text/html": [
       "<div>\n",
       "<table border=\"1\" class=\"dataframe\">\n",
       "  <thead>\n",
       "    <tr style=\"text-align: right;\">\n",
       "      <th></th>\n",
       "      <th>racedate</th>\n",
       "      <th>racecourse</th>\n",
       "      <th>distance</th>\n",
       "      <th>going</th>\n",
       "      <th>raceclass</th>\n",
       "      <th>racetype</th>\n",
       "      <th>age_cond</th>\n",
       "      <th>wintime</th>\n",
       "    </tr>\n",
       "  </thead>\n",
       "  <tbody>\n",
       "    <tr>\n",
       "      <th>0</th>\n",
       "      <td>2000-01-15</td>\n",
       "      <td>1.0</td>\n",
       "      <td>20.0</td>\n",
       "      <td>6</td>\n",
       "      <td>3.0</td>\n",
       "      <td>2</td>\n",
       "      <td>3</td>\n",
       "      <td>324.91</td>\n",
       "    </tr>\n",
       "    <tr>\n",
       "      <th>1</th>\n",
       "      <td>2000-01-15</td>\n",
       "      <td>1.0</td>\n",
       "      <td>19.5</td>\n",
       "      <td>6</td>\n",
       "      <td>2.0</td>\n",
       "      <td>3</td>\n",
       "      <td>3</td>\n",
       "      <td>309.59</td>\n",
       "    </tr>\n",
       "    <tr>\n",
       "      <th>2</th>\n",
       "      <td>2000-01-15</td>\n",
       "      <td>1.0</td>\n",
       "      <td>16.0</td>\n",
       "      <td>6</td>\n",
       "      <td>1.0</td>\n",
       "      <td>3</td>\n",
       "      <td>3</td>\n",
       "      <td>244.63</td>\n",
       "    </tr>\n",
       "    <tr>\n",
       "      <th>3</th>\n",
       "      <td>2000-01-15</td>\n",
       "      <td>1.0</td>\n",
       "      <td>16.5</td>\n",
       "      <td>6</td>\n",
       "      <td>2.0</td>\n",
       "      <td>2</td>\n",
       "      <td>3</td>\n",
       "      <td>255.31</td>\n",
       "    </tr>\n",
       "    <tr>\n",
       "      <th>4</th>\n",
       "      <td>2000-01-15</td>\n",
       "      <td>1.0</td>\n",
       "      <td>24.5</td>\n",
       "      <td>6</td>\n",
       "      <td>2.0</td>\n",
       "      <td>3</td>\n",
       "      <td>3</td>\n",
       "      <td>398.33</td>\n",
       "    </tr>\n",
       "  </tbody>\n",
       "</table>\n",
       "</div>"
      ],
      "text/plain": [
       "    racedate  racecourse  distance  going  raceclass  racetype  age_cond  \\\n",
       "0 2000-01-15         1.0      20.0      6        3.0         2         3   \n",
       "1 2000-01-15         1.0      19.5      6        2.0         3         3   \n",
       "2 2000-01-15         1.0      16.0      6        1.0         3         3   \n",
       "3 2000-01-15         1.0      16.5      6        2.0         2         3   \n",
       "4 2000-01-15         1.0      24.5      6        2.0         3         3   \n",
       "\n",
       "   wintime  \n",
       "0   324.91  \n",
       "1   309.59  \n",
       "2   244.63  \n",
       "3   255.31  \n",
       "4   398.33  "
      ]
     },
     "execution_count": 94,
     "metadata": {},
     "output_type": "execute_result"
    }
   ],
   "source": [
    "wintimes.head()"
   ]
  },
  {
   "cell_type": "markdown",
   "metadata": {},
   "source": [
    "## Remove Outliers\n",
    "\n",
    "My useful remove outliers method from part one.\n"
   ]
  },
  {
   "cell_type": "code",
   "execution_count": 95,
   "metadata": {
    "collapsed": false
   },
   "outputs": [],
   "source": [
    "# er... I'm not really sure how this fantastic code I wrote previously really works\n",
    "# but anyway... it removes 2000 odd outlier races from 135,000 races\n",
    "# I'll go with it\n",
    "statsdf = wintimes.groupby(['racecourse','racetype','distance']).wintime.agg(['mean', 'std','count']).reset_index()\n",
    "wintimes = pd.merge(wintimes, statsdf, how='left', on=['racecourse','racetype','distance'])\n",
    "wintimes = wintimes.dropna(subset=['mean', 'std', 'wintime', 'count'], how='any')\n",
    "wintimes['stdx3'] = wintimes['std'] * 3\n",
    "wintimes['windiff'] = abs(wintimes['wintime'] - wintimes['mean'])\n",
    "wintimes = wintimes[wintimes.windiff < wintimes.stdx3]\n",
    "wintimes.drop(['windiff','stdx3','mean','std'], axis=1, inplace=True)\n",
    "wintimes = wintimes[(wintimes['count'] > 5)]"
   ]
  },
  {
   "cell_type": "markdown",
   "metadata": {},
   "source": [
    "## Visualise the Data"
   ]
  },
  {
   "cell_type": "code",
   "execution_count": 96,
   "metadata": {
    "collapsed": false
   },
   "outputs": [
    {
     "data": {
      "text/plain": [
       "<matplotlib.axes._subplots.AxesSubplot at 0x7f6ae0f21150>"
      ]
     },
     "execution_count": 96,
     "metadata": {},
     "output_type": "execute_result"
    },
    {
     "data": {
      "image/png": "[encoded data removed]",
      "text/plain": [
       "<matplotlib.figure.Figure at 0x7f6ae4f08dd0>"
      ]
     },
     "metadata": {},
     "output_type": "display_data"
    }
   ],
   "source": [
    "wintimes.plot(kind='scatter', x='distance', y='wintime')"
   ]
  },
  {
   "cell_type": "code",
   "execution_count": 97,
   "metadata": {
    "collapsed": false
   },
   "outputs": [
    {
     "name": "stdout",
     "output_type": "stream",
     "text": [
      "<class 'pandas.core.frame.DataFrame'>\n",
      "Int64Index: 167870 entries, 0 to 170449\n",
      "Data columns (total 9 columns):\n",
      "racedate      167870 non-null datetime64[ns]\n",
      "racecourse    167870 non-null float64\n",
      "distance      167870 non-null float64\n",
      "going         167870 non-null int64\n",
      "raceclass     133857 non-null float64\n",
      "racetype      167870 non-null int64\n",
      "age_cond      167870 non-null int64\n",
      "wintime       167870 non-null float64\n",
      "count         167870 non-null int64\n",
      "dtypes: datetime64[ns](1), float64(4), int64(4)\n",
      "memory usage: 12.8 MB\n"
     ]
    }
   ],
   "source": [
    "wintimes.info()"
   ]
  },
  {
   "cell_type": "code",
   "execution_count": 98,
   "metadata": {
    "collapsed": false
   },
   "outputs": [
    {
     "data": {
      "text/plain": [
       "167870"
      ]
     },
     "execution_count": 98,
     "metadata": {},
     "output_type": "execute_result"
    }
   ],
   "source": [
    "len(wintimes)"
   ]
  },
  {
   "cell_type": "code",
   "execution_count": 99,
   "metadata": {
    "collapsed": false
   },
   "outputs": [
    {
     "data": {
      "text/plain": [
       "4    34770\n",
       "3    34231\n",
       "6    26129\n",
       "5    22611\n",
       "7    22082\n",
       "9    13608\n",
       "1     7291\n",
       "2     5629\n",
       "8     1519\n",
       "Name: going, dtype: int64"
      ]
     },
     "execution_count": 99,
     "metadata": {},
     "output_type": "execute_result"
    }
   ],
   "source": [
    "wintimes.going.value_counts()"
   ]
  },
  {
   "cell_type": "code",
   "execution_count": 100,
   "metadata": {
    "collapsed": false
   },
   "outputs": [
    {
     "data": {
      "text/plain": [
       "5.0    39779\n",
       "4.0    37955\n",
       "6.0    26517\n",
       "3.0    13917\n",
       "2.0     7028\n",
       "1.0     6459\n",
       "7.0     2202\n",
       "Name: raceclass, dtype: int64"
      ]
     },
     "execution_count": 100,
     "metadata": {},
     "output_type": "execute_result"
    }
   ],
   "source": [
    "wintimes.raceclass.value_counts()"
   ]
  },
  {
   "cell_type": "code",
   "execution_count": 101,
   "metadata": {
    "collapsed": false
   },
   "outputs": [
    {
     "data": {
      "text/plain": [
       "1    96111\n",
       "2    38212\n",
       "3    26657\n",
       "4     6890\n",
       "Name: racetype, dtype: int64"
      ]
     },
     "execution_count": 101,
     "metadata": {},
     "output_type": "execute_result"
    }
   ],
   "source": [
    "wintimes.racetype.value_counts()\n",
    "# 1: Flat, 2: Hurdle, 3: Chase, 4: NH Flat"
   ]
  },
  {
   "cell_type": "code",
   "execution_count": 102,
   "metadata": {
    "collapsed": false
   },
   "outputs": [
    {
     "data": {
      "text/plain": [
       "3    87114\n",
       "4    39136\n",
       "2    22283\n",
       "1    19337\n",
       "Name: age_cond, dtype: int64"
      ]
     },
     "execution_count": 102,
     "metadata": {},
     "output_type": "execute_result"
    }
   ],
   "source": [
    "wintimes.age_cond.value_counts()\n",
    "# 1: 2yo, 2: 3yo, 3: 3yo+, 4: 4yo+"
   ]
  },
  {
   "cell_type": "code",
   "execution_count": 103,
   "metadata": {
    "collapsed": true
   },
   "outputs": [],
   "source": [
    "# I'll write the clean wintimes to a new csv file 'clean_wintimes_4.csv' here\n",
    "wintimes.to_csv(\"/home/benjamin/Documents/form_study/analysis/deepmine/csv/clean_wintimes_4.csv\")"
   ]
  },
  {
   "cell_type": "markdown",
   "metadata": {},
   "source": [
    "## Create Standard Times"
   ]
  },
  {
   "cell_type": "markdown",
   "metadata": {},
   "source": [
    "I decide to take the 5th percentile (i.e. 95% fastest time) for each racecourse, racetype and distance configuration as my standard time. "
   ]
  },
  {
   "cell_type": "code",
   "execution_count": 104,
   "metadata": {
    "collapsed": false
   },
   "outputs": [],
   "source": [
    "std_times = wintimes.groupby(['racecourse','racetype','distance']).wintime.quantile(.05).reset_index()"
   ]
  },
  {
   "cell_type": "code",
   "execution_count": 105,
   "metadata": {
    "collapsed": false
   },
   "outputs": [
    {
     "data": {
      "text/html": [
       "<div>\n",
       "<table border=\"1\" class=\"dataframe\">\n",
       "  <thead>\n",
       "    <tr style=\"text-align: right;\">\n",
       "      <th></th>\n",
       "      <th>racecourse</th>\n",
       "      <th>racetype</th>\n",
       "      <th>distance</th>\n",
       "      <th>wintime</th>\n",
       "    </tr>\n",
       "  </thead>\n",
       "  <tbody>\n",
       "    <tr>\n",
       "      <th>count</th>\n",
       "      <td>1429.000000</td>\n",
       "      <td>1429.000000</td>\n",
       "      <td>1429.000000</td>\n",
       "      <td>1429.000000</td>\n",
       "    </tr>\n",
       "    <tr>\n",
       "      <th>mean</th>\n",
       "      <td>89.568929</td>\n",
       "      <td>2.076277</td>\n",
       "      <td>16.430203</td>\n",
       "      <td>231.821501</td>\n",
       "    </tr>\n",
       "    <tr>\n",
       "      <th>std</th>\n",
       "      <td>87.103951</td>\n",
       "      <td>1.002338</td>\n",
       "      <td>6.328793</td>\n",
       "      <td>101.890623</td>\n",
       "    </tr>\n",
       "    <tr>\n",
       "      <th>min</th>\n",
       "      <td>1.000000</td>\n",
       "      <td>1.000000</td>\n",
       "      <td>5.000000</td>\n",
       "      <td>54.102500</td>\n",
       "    </tr>\n",
       "    <tr>\n",
       "      <th>25%</th>\n",
       "      <td>22.000000</td>\n",
       "      <td>1.000000</td>\n",
       "      <td>11.980000</td>\n",
       "      <td>149.377500</td>\n",
       "    </tr>\n",
       "    <tr>\n",
       "      <th>50%</th>\n",
       "      <td>47.000000</td>\n",
       "      <td>2.000000</td>\n",
       "      <td>16.500000</td>\n",
       "      <td>234.543500</td>\n",
       "    </tr>\n",
       "    <tr>\n",
       "      <th>75%</th>\n",
       "      <td>206.000000</td>\n",
       "      <td>3.000000</td>\n",
       "      <td>20.700000</td>\n",
       "      <td>304.260000</td>\n",
       "    </tr>\n",
       "    <tr>\n",
       "      <th>max</th>\n",
       "      <td>229.000000</td>\n",
       "      <td>4.000000</td>\n",
       "      <td>36.000000</td>\n",
       "      <td>542.583000</td>\n",
       "    </tr>\n",
       "  </tbody>\n",
       "</table>\n",
       "</div>"
      ],
      "text/plain": [
       "        racecourse     racetype     distance      wintime\n",
       "count  1429.000000  1429.000000  1429.000000  1429.000000\n",
       "mean     89.568929     2.076277    16.430203   231.821501\n",
       "std      87.103951     1.002338     6.328793   101.890623\n",
       "min       1.000000     1.000000     5.000000    54.102500\n",
       "25%      22.000000     1.000000    11.980000   149.377500\n",
       "50%      47.000000     2.000000    16.500000   234.543500\n",
       "75%     206.000000     3.000000    20.700000   304.260000\n",
       "max     229.000000     4.000000    36.000000   542.583000"
      ]
     },
     "execution_count": 105,
     "metadata": {},
     "output_type": "execute_result"
    }
   ],
   "source": [
    "std_times.describe()"
   ]
  },
  {
   "cell_type": "code",
   "execution_count": 106,
   "metadata": {
    "collapsed": true
   },
   "outputs": [],
   "source": [
    "std_times.rename(columns={'wintime':'std_time'}, inplace=True)"
   ]
  },
  {
   "cell_type": "code",
   "execution_count": 107,
   "metadata": {
    "collapsed": false
   },
   "outputs": [
    {
     "data": {
      "text/html": [
       "<div>\n",
       "<table border=\"1\" class=\"dataframe\">\n",
       "  <thead>\n",
       "    <tr style=\"text-align: right;\">\n",
       "      <th></th>\n",
       "      <th>racecourse</th>\n",
       "      <th>racetype</th>\n",
       "      <th>distance</th>\n",
       "      <th>std_time</th>\n",
       "    </tr>\n",
       "  </thead>\n",
       "  <tbody>\n",
       "    <tr>\n",
       "      <th>0</th>\n",
       "      <td>1.0</td>\n",
       "      <td>1</td>\n",
       "      <td>5.00</td>\n",
       "      <td>59.1100</td>\n",
       "    </tr>\n",
       "    <tr>\n",
       "      <th>1</th>\n",
       "      <td>1.0</td>\n",
       "      <td>1</td>\n",
       "      <td>6.00</td>\n",
       "      <td>72.4915</td>\n",
       "    </tr>\n",
       "    <tr>\n",
       "      <th>2</th>\n",
       "      <td>1.0</td>\n",
       "      <td>1</td>\n",
       "      <td>6.50</td>\n",
       "      <td>80.7430</td>\n",
       "    </tr>\n",
       "    <tr>\n",
       "      <th>3</th>\n",
       "      <td>1.0</td>\n",
       "      <td>1</td>\n",
       "      <td>7.00</td>\n",
       "      <td>85.9000</td>\n",
       "    </tr>\n",
       "    <tr>\n",
       "      <th>4</th>\n",
       "      <td>1.0</td>\n",
       "      <td>1</td>\n",
       "      <td>8.00</td>\n",
       "      <td>98.3240</td>\n",
       "    </tr>\n",
       "    <tr>\n",
       "      <th>5</th>\n",
       "      <td>1.0</td>\n",
       "      <td>1</td>\n",
       "      <td>10.00</td>\n",
       "      <td>123.8985</td>\n",
       "    </tr>\n",
       "    <tr>\n",
       "      <th>6</th>\n",
       "      <td>1.0</td>\n",
       "      <td>1</td>\n",
       "      <td>12.00</td>\n",
       "      <td>147.6680</td>\n",
       "    </tr>\n",
       "    <tr>\n",
       "      <th>7</th>\n",
       "      <td>1.0</td>\n",
       "      <td>1</td>\n",
       "      <td>14.00</td>\n",
       "      <td>179.9515</td>\n",
       "    </tr>\n",
       "    <tr>\n",
       "      <th>8</th>\n",
       "      <td>1.0</td>\n",
       "      <td>1</td>\n",
       "      <td>16.00</td>\n",
       "      <td>205.3120</td>\n",
       "    </tr>\n",
       "    <tr>\n",
       "      <th>9</th>\n",
       "      <td>1.0</td>\n",
       "      <td>1</td>\n",
       "      <td>16.20</td>\n",
       "      <td>209.1270</td>\n",
       "    </tr>\n",
       "    <tr>\n",
       "      <th>10</th>\n",
       "      <td>1.0</td>\n",
       "      <td>1</td>\n",
       "      <td>20.00</td>\n",
       "      <td>260.1950</td>\n",
       "    </tr>\n",
       "    <tr>\n",
       "      <th>11</th>\n",
       "      <td>1.0</td>\n",
       "      <td>1</td>\n",
       "      <td>21.72</td>\n",
       "      <td>286.3060</td>\n",
       "    </tr>\n",
       "  </tbody>\n",
       "</table>\n",
       "</div>"
      ],
      "text/plain": [
       "    racecourse  racetype  distance  std_time\n",
       "0          1.0         1      5.00   59.1100\n",
       "1          1.0         1      6.00   72.4915\n",
       "2          1.0         1      6.50   80.7430\n",
       "3          1.0         1      7.00   85.9000\n",
       "4          1.0         1      8.00   98.3240\n",
       "5          1.0         1     10.00  123.8985\n",
       "6          1.0         1     12.00  147.6680\n",
       "7          1.0         1     14.00  179.9515\n",
       "8          1.0         1     16.00  205.3120\n",
       "9          1.0         1     16.20  209.1270\n",
       "10         1.0         1     20.00  260.1950\n",
       "11         1.0         1     21.72  286.3060"
      ]
     },
     "execution_count": 107,
     "metadata": {},
     "output_type": "execute_result"
    }
   ],
   "source": [
    "# Standard Times for Ascot on the flat\n",
    "std_times[(std_times.racecourse==1) & (std_times.racetype==1)]"
   ]
  },
  {
   "cell_type": "code",
   "execution_count": 108,
   "metadata": {
    "collapsed": true
   },
   "outputs": [],
   "source": [
    "# I'll write the standard times to a new file 'standard_times.csv' here\n",
    "std_times.to_csv(\"/home/benjamin/Documents/form_study/analysis/deepmine/csv/standard_times.csv\")"
   ]
  },
  {
   "cell_type": "markdown",
   "metadata": {},
   "source": [
    "## Conclusion"
   ]
  },
  {
   "cell_type": "markdown",
   "metadata": {},
   "source": [
    "I've done it before but it helps to go over it all and put all the work into one notebook. The next stage is to apply these standard times to my results dataset."
   ]
  },
  {
   "cell_type": "markdown",
   "metadata": {},
   "source": [
    "## Benjamin Woodling | 09.09.2016"
   ]
  }
 ],
 "metadata": {
  "kernelspec": {
   "display_name": "Python 2",
   "language": "python",
   "name": "python2"
  },
  "language_info": {
   "codemirror_mode": {
    "name": "ipython",
    "version": 2
   },
   "file_extension": ".py",
   "mimetype": "text/x-python",
   "name": "python",
   "nbconvert_exporter": "python",
   "pygments_lexer": "ipython2",
   "version": "2.7.12"
  }
 },
 "nbformat": 4,
 "nbformat_minor": 0
}
