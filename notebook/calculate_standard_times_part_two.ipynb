{
 "cells": [
  {
   "cell_type": "markdown",
   "metadata": {},
   "source": [
    "# CALCULATE STANDARD TIMES - PART TWO"
   ]
  },
  {
   "cell_type": "markdown",
   "metadata": {},
   "source": [
    "## Outline\n",
    "+ Pretty much the same goal as Part One which was:\n",
    "+ The goal of the notebook is to calculate a standard time for each configuration of racecourse, racetype and distance."
   ]
  },
  {
   "cell_type": "code",
   "execution_count": 2,
   "metadata": {
    "collapsed": true
   },
   "outputs": [],
   "source": [
    "# set up, imports and configuration\n",
    "%matplotlib inline\n",
    "import numpy as np\n",
    "import pandas as pd\n",
    "import matplotlib.pyplot as plt\n",
    "# plt.rcParams['agg.path.chunksize'] = 10000\n",
    "plt.rcParams['figure.figsize'] = (15, 5)\n",
    "plt.rcParams['font.family'] = 'sans-serif'"
   ]
  },
  {
   "cell_type": "markdown",
   "metadata": {},
   "source": [
    "## Getting the Data"
   ]
  },
  {
   "cell_type": "code",
   "execution_count": 2,
   "metadata": {
    "collapsed": false
   },
   "outputs": [
    {
     "ename": "NameError",
     "evalue": "name 'pd' is not defined",
     "output_type": "error",
     "traceback": [
      "\u001b[1;31m---------------------------------------------------------------------------\u001b[0m",
      "\u001b[1;31mNameError\u001b[0m                                 Traceback (most recent call last)",
      "\u001b[1;32m<ipython-input-2-027b6a88d0a8>\u001b[0m in \u001b[0;36m<module>\u001b[1;34m()\u001b[0m\n\u001b[0;32m      1\u001b[0m \u001b[1;31m# Read wintimes from csv file\u001b[0m\u001b[1;33m\u001b[0m\u001b[1;33m\u001b[0m\u001b[0m\n\u001b[1;32m----> 2\u001b[1;33m \u001b[0mwintimes\u001b[0m \u001b[1;33m=\u001b[0m \u001b[0mpd\u001b[0m\u001b[1;33m.\u001b[0m\u001b[0mread_csv\u001b[0m\u001b[1;33m(\u001b[0m\u001b[1;34m\"/home/benjamin/Documents/form_study/data/timeform/csv/analysis/wintimes.csv\"\u001b[0m\u001b[1;33m)\u001b[0m\u001b[1;33m\u001b[0m\u001b[0m\n\u001b[0m\u001b[0;32m      3\u001b[0m \u001b[0mlen\u001b[0m\u001b[1;33m(\u001b[0m\u001b[0mwintimes\u001b[0m\u001b[1;33m)\u001b[0m\u001b[1;33m\u001b[0m\u001b[0m\n",
      "\u001b[1;31mNameError\u001b[0m: name 'pd' is not defined"
     ]
    }
   ],
   "source": [
    "# Read wintimes from csv file\n",
    "wintimes = pd.read_csv(\"/home/benjamin/Documents/form_study/data/timeform/csv/analysis/wintimes.csv\")\n",
    "len(wintimes)"
   ]
  },
  {
   "cell_type": "code",
   "execution_count": 1,
   "metadata": {
    "collapsed": false
   },
   "outputs": [
    {
     "ename": "NameError",
     "evalue": "name 'wintimes' is not defined",
     "output_type": "error",
     "traceback": [
      "\u001b[1;31m---------------------------------------------------------------------------\u001b[0m",
      "\u001b[1;31mNameError\u001b[0m                                 Traceback (most recent call last)",
      "\u001b[1;32m<ipython-input-1-f41b3539e7f0>\u001b[0m in \u001b[0;36m<module>\u001b[1;34m()\u001b[0m\n\u001b[1;32m----> 1\u001b[1;33m \u001b[0mwintimes\u001b[0m\u001b[1;33m.\u001b[0m\u001b[0minfo\u001b[0m\u001b[1;33m(\u001b[0m\u001b[1;33m)\u001b[0m\u001b[1;33m\u001b[0m\u001b[0m\n\u001b[0m",
      "\u001b[1;31mNameError\u001b[0m: name 'wintimes' is not defined"
     ]
    }
   ],
   "source": [
    "wintimes.info()"
   ]
  },
  {
   "cell_type": "code",
   "execution_count": 3,
   "metadata": {
    "collapsed": false
   },
   "outputs": [
    {
     "name": "stderr",
     "output_type": "stream",
     "text": [
      "/home/benjamin/anaconda2/lib/python2.7/site-packages/numpy/lib/function_base.py:3823: RuntimeWarning: Invalid value encountered in percentile\n",
      "  RuntimeWarning)\n"
     ]
    },
    {
     "data": {
      "text/html": [
       "<div>\n",
       "<table border=\"1\" class=\"dataframe\">\n",
       "  <thead>\n",
       "    <tr style=\"text-align: right;\">\n",
       "      <th></th>\n",
       "      <th>Unnamed: 0</th>\n",
       "      <th>raceID</th>\n",
       "      <th>racecourse</th>\n",
       "      <th>distance</th>\n",
       "      <th>raceclass</th>\n",
       "      <th>wintime</th>\n",
       "    </tr>\n",
       "  </thead>\n",
       "  <tbody>\n",
       "    <tr>\n",
       "      <th>count</th>\n",
       "      <td>170581.000000</td>\n",
       "      <td>1.705810e+05</td>\n",
       "      <td>170581.000000</td>\n",
       "      <td>170581.000000</td>\n",
       "      <td>135947.000000</td>\n",
       "      <td>170581.000000</td>\n",
       "    </tr>\n",
       "    <tr>\n",
       "      <th>mean</th>\n",
       "      <td>57567.306365</td>\n",
       "      <td>3.437097e+10</td>\n",
       "      <td>69.820941</td>\n",
       "      <td>13.169629</td>\n",
       "      <td>4.384510</td>\n",
       "      <td>189.990310</td>\n",
       "    </tr>\n",
       "    <tr>\n",
       "      <th>std</th>\n",
       "      <td>34247.939257</td>\n",
       "      <td>4.413052e+10</td>\n",
       "      <td>74.606599</td>\n",
       "      <td>6.353162</td>\n",
       "      <td>1.357325</td>\n",
       "      <td>107.750126</td>\n",
       "    </tr>\n",
       "    <tr>\n",
       "      <th>min</th>\n",
       "      <td>0.000000</td>\n",
       "      <td>1.110001e+09</td>\n",
       "      <td>1.000000</td>\n",
       "      <td>0.000000</td>\n",
       "      <td>1.000000</td>\n",
       "      <td>0.010000</td>\n",
       "    </tr>\n",
       "    <tr>\n",
       "      <th>25%</th>\n",
       "      <td>27585.000000</td>\n",
       "      <td>1.231050e+10</td>\n",
       "      <td>23.000000</td>\n",
       "      <td>7.040000</td>\n",
       "      <td>NaN</td>\n",
       "      <td>90.480000</td>\n",
       "    </tr>\n",
       "    <tr>\n",
       "      <th>50%</th>\n",
       "      <td>57177.000000</td>\n",
       "      <td>1.411091e+10</td>\n",
       "      <td>41.000000</td>\n",
       "      <td>12.000000</td>\n",
       "      <td>NaN</td>\n",
       "      <td>156.690000</td>\n",
       "    </tr>\n",
       "    <tr>\n",
       "      <th>75%</th>\n",
       "      <td>85627.000000</td>\n",
       "      <td>1.581150e+10</td>\n",
       "      <td>58.000000</td>\n",
       "      <td>18.000000</td>\n",
       "      <td>NaN</td>\n",
       "      <td>274.350000</td>\n",
       "    </tr>\n",
       "    <tr>\n",
       "      <th>max</th>\n",
       "      <td>131798.000000</td>\n",
       "      <td>1.601081e+11</td>\n",
       "      <td>229.000000</td>\n",
       "      <td>36.000000</td>\n",
       "      <td>7.000000</td>\n",
       "      <td>660.060000</td>\n",
       "    </tr>\n",
       "  </tbody>\n",
       "</table>\n",
       "</div>"
      ],
      "text/plain": [
       "          Unnamed: 0        raceID     racecourse       distance  \\\n",
       "count  170581.000000  1.705810e+05  170581.000000  170581.000000   \n",
       "mean    57567.306365  3.437097e+10      69.820941      13.169629   \n",
       "std     34247.939257  4.413052e+10      74.606599       6.353162   \n",
       "min         0.000000  1.110001e+09       1.000000       0.000000   \n",
       "25%     27585.000000  1.231050e+10      23.000000       7.040000   \n",
       "50%     57177.000000  1.411091e+10      41.000000      12.000000   \n",
       "75%     85627.000000  1.581150e+10      58.000000      18.000000   \n",
       "max    131798.000000  1.601081e+11     229.000000      36.000000   \n",
       "\n",
       "           raceclass        wintime  \n",
       "count  135947.000000  170581.000000  \n",
       "mean        4.384510     189.990310  \n",
       "std         1.357325     107.750126  \n",
       "min         1.000000       0.010000  \n",
       "25%              NaN      90.480000  \n",
       "50%              NaN     156.690000  \n",
       "75%              NaN     274.350000  \n",
       "max         7.000000     660.060000  "
      ]
     },
     "execution_count": 3,
     "metadata": {},
     "output_type": "execute_result"
    }
   ],
   "source": [
    "# Drop wintime NAs especially so that the percentile functions work\n",
    "wintimes = wintimes.dropna(subset=['wintime'], how='any')\n",
    "wintimes.describe()"
   ]
  },
  {
   "cell_type": "markdown",
   "metadata": {},
   "source": [
    "## Cleaning the Data"
   ]
  },
  {
   "cell_type": "markdown",
   "metadata": {},
   "source": [
    "Right, I'm going to examine all the unique data values so they don't come back and bite me later."
   ]
  },
  {
   "cell_type": "code",
   "execution_count": 4,
   "metadata": {
    "collapsed": false
   },
   "outputs": [
    {
     "name": "stdout",
     "output_type": "stream",
     "text": [
      "<class 'pandas.core.frame.DataFrame'>\n",
      "Int64Index: 170581 entries, 0 to 170726\n",
      "Data columns (total 11 columns):\n",
      "Unnamed: 0    170581 non-null int64\n",
      "raceID        170581 non-null float64\n",
      "racedate      170581 non-null object\n",
      "racecourse    170581 non-null float64\n",
      "distance      170581 non-null float64\n",
      "going         170581 non-null object\n",
      "raceclass     135947 non-null float64\n",
      "racetype      170581 non-null object\n",
      "racetype2     170581 non-null object\n",
      "age_cond      170581 non-null object\n",
      "wintime       170581 non-null float64\n",
      "dtypes: float64(5), int64(1), object(5)\n",
      "memory usage: 12.4+ MB\n"
     ]
    },
    {
     "data": {
      "text/plain": [
       "170581"
      ]
     },
     "execution_count": 4,
     "metadata": {},
     "output_type": "execute_result"
    }
   ],
   "source": [
    "wintimes.info()\n",
    "len(wintimes)"
   ]
  },
  {
   "cell_type": "code",
   "execution_count": 5,
   "metadata": {
    "collapsed": true
   },
   "outputs": [],
   "source": [
    "# Excuse me while I convert going to a numbered dict\n",
    "goingDict = {'fast': 1, 'firm': 2, 'good-firm': 3, 'standard': 4, 'good': 5, 'good-soft': 6, 'slow': 7, 'soft': 8 ,'heavy': 9 }\n",
    "wintimes = wintimes.replace({\"going\": goingDict})"
   ]
  },
  {
   "cell_type": "code",
   "execution_count": 6,
   "metadata": {
    "collapsed": false
   },
   "outputs": [
    {
     "data": {
      "text/plain": [
       "170569"
      ]
     },
     "execution_count": 6,
     "metadata": {},
     "output_type": "execute_result"
    }
   ],
   "source": [
    "# racecourses should be integer values.\n",
    "# racecourse 213 is maison laffitte which I don't want.\n",
    "# wintimes.racecourse.value_counts()\n",
    "wintimes.racecourse = wintimes.racecourse.astype(int)\n",
    "wintimes = wintimes.drop(wintimes[wintimes.racecourse==213].index)\n",
    "len(wintimes)"
   ]
  },
  {
   "cell_type": "code",
   "execution_count": 7,
   "metadata": {
    "collapsed": false
   },
   "outputs": [
    {
     "data": {
      "text/plain": [
       "170568"
      ]
     },
     "execution_count": 7,
     "metadata": {},
     "output_type": "execute_result"
    }
   ],
   "source": [
    "# Wow, I managed to remove a zero from a pandas dataframe!\n",
    "# wintimes.distance.value_counts()\n",
    "wintimes = wintimes.drop(wintimes[wintimes.distance==0.00].index)\n",
    "len(wintimes)"
   ]
  },
  {
   "cell_type": "code",
   "execution_count": 8,
   "metadata": {
    "collapsed": false
   },
   "outputs": [],
   "source": [
    "# convert racetype2 to a numbered dict\n",
    "wintimes.racetype2.value_counts()\n",
    "type2dict = {'Flat': 1, 'Hurdle': 2, 'Chase' : 3, 'National Hunt Flat' : 4}\n",
    "wintimes = wintimes.replace({\"racetype2\": type2dict})\n",
    "# wintimes.describe()"
   ]
  },
  {
   "cell_type": "code",
   "execution_count": 9,
   "metadata": {
    "collapsed": false
   },
   "outputs": [],
   "source": [
    "# reduce number of age_cond categories\n",
    "age_condict = {'9yo+': 'N/A', '2yo+': 'N/A', '0yo+': 'N/A', '7yo+' : 'N/A', '8yo' : 'N/A', '8yo+': 'N/A'}\n",
    "wintimes = wintimes.replace({\"age_cond\": age_condict})\n",
    "# wintimes.age_cond.value_counts()"
   ]
  },
  {
   "cell_type": "code",
   "execution_count": 10,
   "metadata": {
    "collapsed": false
   },
   "outputs": [],
   "source": [
    "# Fairly simple to convert the race dates to pandas datetime format \n",
    "wintimes['racedate'] = pd.to_datetime(wintimes['racedate'])"
   ]
  },
  {
   "cell_type": "code",
   "execution_count": 11,
   "metadata": {
    "collapsed": false
   },
   "outputs": [
    {
     "name": "stdout",
     "output_type": "stream",
     "text": [
      "<class 'pandas.core.frame.DataFrame'>\n",
      "Int64Index: 170568 entries, 0 to 170726\n",
      "Data columns (total 11 columns):\n",
      "Unnamed: 0    170568 non-null int64\n",
      "raceID        170568 non-null float64\n",
      "racedate      170568 non-null datetime64[ns]\n",
      "racecourse    170568 non-null int32\n",
      "distance      170568 non-null float64\n",
      "going         170568 non-null int64\n",
      "raceclass     135947 non-null float64\n",
      "racetype      170568 non-null object\n",
      "racetype2     170568 non-null int64\n",
      "age_cond      170568 non-null object\n",
      "wintime       170568 non-null float64\n",
      "dtypes: datetime64[ns](1), float64(4), int32(1), int64(3), object(2)\n",
      "memory usage: 13.7+ MB\n"
     ]
    }
   ],
   "source": [
    "wintimes.info()"
   ]
  },
  {
   "cell_type": "code",
   "execution_count": 12,
   "metadata": {
    "collapsed": false
   },
   "outputs": [
    {
     "data": {
      "text/html": [
       "<div>\n",
       "<table border=\"1\" class=\"dataframe\">\n",
       "  <thead>\n",
       "    <tr style=\"text-align: right;\">\n",
       "      <th></th>\n",
       "      <th>Unnamed: 0</th>\n",
       "      <th>raceID</th>\n",
       "      <th>racecourse</th>\n",
       "      <th>distance</th>\n",
       "      <th>going</th>\n",
       "      <th>raceclass</th>\n",
       "      <th>racetype2</th>\n",
       "      <th>wintime</th>\n",
       "    </tr>\n",
       "  </thead>\n",
       "  <tbody>\n",
       "    <tr>\n",
       "      <th>count</th>\n",
       "      <td>170568.000000</td>\n",
       "      <td>1.705680e+05</td>\n",
       "      <td>170568.000000</td>\n",
       "      <td>170568.000000</td>\n",
       "      <td>170568.000000</td>\n",
       "      <td>135947.000000</td>\n",
       "      <td>170568.000000</td>\n",
       "      <td>170568.000000</td>\n",
       "    </tr>\n",
       "    <tr>\n",
       "      <th>mean</th>\n",
       "      <td>57565.429143</td>\n",
       "      <td>3.436434e+10</td>\n",
       "      <td>69.810064</td>\n",
       "      <td>13.170123</td>\n",
       "      <td>5.114494</td>\n",
       "      <td>4.384510</td>\n",
       "      <td>1.672899</td>\n",
       "      <td>189.998031</td>\n",
       "    </tr>\n",
       "    <tr>\n",
       "      <th>std</th>\n",
       "      <td>34248.121914</td>\n",
       "      <td>4.412568e+10</td>\n",
       "      <td>74.599036</td>\n",
       "      <td>6.353122</td>\n",
       "      <td>2.143778</td>\n",
       "      <td>1.357325</td>\n",
       "      <td>0.889199</td>\n",
       "      <td>107.750510</td>\n",
       "    </tr>\n",
       "    <tr>\n",
       "      <th>min</th>\n",
       "      <td>0.000000</td>\n",
       "      <td>1.110001e+09</td>\n",
       "      <td>1.000000</td>\n",
       "      <td>5.000000</td>\n",
       "      <td>1.000000</td>\n",
       "      <td>1.000000</td>\n",
       "      <td>1.000000</td>\n",
       "      <td>0.010000</td>\n",
       "    </tr>\n",
       "    <tr>\n",
       "      <th>25%</th>\n",
       "      <td>27584.000000</td>\n",
       "      <td>1.231041e+10</td>\n",
       "      <td>23.000000</td>\n",
       "      <td>7.040000</td>\n",
       "      <td>3.000000</td>\n",
       "      <td>NaN</td>\n",
       "      <td>1.000000</td>\n",
       "      <td>90.480000</td>\n",
       "    </tr>\n",
       "    <tr>\n",
       "      <th>50%</th>\n",
       "      <td>57173.500000</td>\n",
       "      <td>1.411090e+10</td>\n",
       "      <td>41.000000</td>\n",
       "      <td>12.000000</td>\n",
       "      <td>5.000000</td>\n",
       "      <td>NaN</td>\n",
       "      <td>1.000000</td>\n",
       "      <td>156.700000</td>\n",
       "    </tr>\n",
       "    <tr>\n",
       "      <th>75%</th>\n",
       "      <td>85626.000000</td>\n",
       "      <td>1.581150e+10</td>\n",
       "      <td>58.000000</td>\n",
       "      <td>18.000000</td>\n",
       "      <td>6.000000</td>\n",
       "      <td>NaN</td>\n",
       "      <td>2.000000</td>\n",
       "      <td>274.392500</td>\n",
       "    </tr>\n",
       "    <tr>\n",
       "      <th>max</th>\n",
       "      <td>131798.000000</td>\n",
       "      <td>1.601081e+11</td>\n",
       "      <td>229.000000</td>\n",
       "      <td>36.000000</td>\n",
       "      <td>9.000000</td>\n",
       "      <td>7.000000</td>\n",
       "      <td>4.000000</td>\n",
       "      <td>660.060000</td>\n",
       "    </tr>\n",
       "  </tbody>\n",
       "</table>\n",
       "</div>"
      ],
      "text/plain": [
       "          Unnamed: 0        raceID     racecourse       distance  \\\n",
       "count  170568.000000  1.705680e+05  170568.000000  170568.000000   \n",
       "mean    57565.429143  3.436434e+10      69.810064      13.170123   \n",
       "std     34248.121914  4.412568e+10      74.599036       6.353122   \n",
       "min         0.000000  1.110001e+09       1.000000       5.000000   \n",
       "25%     27584.000000  1.231041e+10      23.000000       7.040000   \n",
       "50%     57173.500000  1.411090e+10      41.000000      12.000000   \n",
       "75%     85626.000000  1.581150e+10      58.000000      18.000000   \n",
       "max    131798.000000  1.601081e+11     229.000000      36.000000   \n",
       "\n",
       "               going      raceclass      racetype2        wintime  \n",
       "count  170568.000000  135947.000000  170568.000000  170568.000000  \n",
       "mean        5.114494       4.384510       1.672899     189.998031  \n",
       "std         2.143778       1.357325       0.889199     107.750510  \n",
       "min         1.000000       1.000000       1.000000       0.010000  \n",
       "25%         3.000000            NaN       1.000000      90.480000  \n",
       "50%         5.000000            NaN       1.000000     156.700000  \n",
       "75%         6.000000            NaN       2.000000     274.392500  \n",
       "max         9.000000       7.000000       4.000000     660.060000  "
      ]
     },
     "execution_count": 12,
     "metadata": {},
     "output_type": "execute_result"
    }
   ],
   "source": [
    "wintimes.describe()"
   ]
  },
  {
   "cell_type": "markdown",
   "metadata": {},
   "source": [
    "## Remove Outliers\n",
    "My useful remove outliers method from part one."
   ]
  },
  {
   "cell_type": "code",
   "execution_count": 13,
   "metadata": {
    "collapsed": false
   },
   "outputs": [
    {
     "data": {
      "text/plain": [
       "<matplotlib.axes._subplots.AxesSubplot at 0xad6168cc>"
      ]
     },
     "execution_count": 13,
     "metadata": {},
     "output_type": "execute_result"
    },
    {
     "data": {
      "image/png": "[encoded data removed]",
      "text/plain": [
       "<matplotlib.figure.Figure at 0xad61664c>"
      ]
     },
     "metadata": {},
     "output_type": "display_data"
    }
   ],
   "source": [
    "statsdf = wintimes.groupby(['racecourse','racetype2','distance']).wintime.agg(['mean', 'std','count']).reset_index()\n",
    "wintimes = pd.merge(wintimes, statsdf, how='left', on=['racecourse','racetype2','distance'])\n",
    "wintimes = wintimes.dropna(subset=['mean', 'std', 'wintime', 'count'], how='any')\n",
    "wintimes['stdx3'] = wintimes['std'] * 3\n",
    "wintimes['windiff'] = abs(wintimes['wintime'] - wintimes['mean'])\n",
    "wintimes = wintimes[wintimes.windiff < wintimes.stdx3]\n",
    "wintimes.drop(['windiff','stdx3','mean','std'], axis=1, inplace=True)\n",
    "wintimes = wintimes[(wintimes['count'] > 5)]\n",
    "wintimes.plot(kind='scatter', x='distance', y='wintime')"
   ]
  },
  {
   "cell_type": "code",
   "execution_count": 14,
   "metadata": {
    "collapsed": false
   },
   "outputs": [
    {
     "data": {
      "text/plain": [
       "167990"
      ]
     },
     "execution_count": 14,
     "metadata": {},
     "output_type": "execute_result"
    }
   ],
   "source": [
    "len(wintimes)"
   ]
  },
  {
   "cell_type": "code",
   "execution_count": 15,
   "metadata": {
    "collapsed": true
   },
   "outputs": [],
   "source": [
    "# I'll write to a new csv file here\n",
    "wintimes.to_csv(\"/home/benjamin/Documents/form_study/data/timeform/csv/analysis/clean_wintimes.csv\")"
   ]
  },
  {
   "cell_type": "markdown",
   "metadata": {},
   "source": [
    "## Calculate Standard Times (maybe...)"
   ]
  },
  {
   "cell_type": "code",
   "execution_count": 16,
   "metadata": {
    "collapsed": false
   },
   "outputs": [
    {
     "data": {
      "text/plain": [
       "167990"
      ]
     },
     "execution_count": 16,
     "metadata": {},
     "output_type": "execute_result"
    }
   ],
   "source": [
    "# Giving me a shorter method to read it all back\n",
    "wintimes = pd.read_csv(\"/home/benjamin/Documents/form_study/data/timeform/csv/analysis/clean_wintimes.csv\")\n",
    "len(wintimes)"
   ]
  },
  {
   "cell_type": "code",
   "execution_count": 17,
   "metadata": {
    "collapsed": false
   },
   "outputs": [
    {
     "data": {
      "text/html": [
       "<div>\n",
       "<table border=\"1\" class=\"dataframe\">\n",
       "  <thead>\n",
       "    <tr style=\"text-align: right;\">\n",
       "      <th></th>\n",
       "      <th>Unnamed: 0</th>\n",
       "      <th>Unnamed: 0.1</th>\n",
       "      <th>raceID</th>\n",
       "      <th>racecourse</th>\n",
       "      <th>distance</th>\n",
       "      <th>going</th>\n",
       "      <th>raceclass</th>\n",
       "      <th>racetype2</th>\n",
       "      <th>wintime</th>\n",
       "      <th>count</th>\n",
       "    </tr>\n",
       "  </thead>\n",
       "  <tbody>\n",
       "    <tr>\n",
       "      <th>count</th>\n",
       "      <td>167990.000000</td>\n",
       "      <td>167990.000000</td>\n",
       "      <td>1.679900e+05</td>\n",
       "      <td>167990.000000</td>\n",
       "      <td>167990.000000</td>\n",
       "      <td>167990.000000</td>\n",
       "      <td>133952.000000</td>\n",
       "      <td>167990.000000</td>\n",
       "      <td>167990.000000</td>\n",
       "      <td>167990.000000</td>\n",
       "    </tr>\n",
       "    <tr>\n",
       "      <th>mean</th>\n",
       "      <td>85158.914120</td>\n",
       "      <td>57409.872969</td>\n",
       "      <td>3.432773e+10</td>\n",
       "      <td>69.762528</td>\n",
       "      <td>13.138798</td>\n",
       "      <td>5.086338</td>\n",
       "      <td>4.387236</td>\n",
       "      <td>1.668826</td>\n",
       "      <td>189.334123</td>\n",
       "      <td>351.166534</td>\n",
       "    </tr>\n",
       "    <tr>\n",
       "      <th>std</th>\n",
       "      <td>48976.759614</td>\n",
       "      <td>34199.839918</td>\n",
       "      <td>4.409543e+10</td>\n",
       "      <td>74.534571</td>\n",
       "      <td>6.339263</td>\n",
       "      <td>2.131568</td>\n",
       "      <td>1.355758</td>\n",
       "      <td>0.886513</td>\n",
       "      <td>107.393266</td>\n",
       "      <td>367.565360</td>\n",
       "    </tr>\n",
       "    <tr>\n",
       "      <th>min</th>\n",
       "      <td>0.000000</td>\n",
       "      <td>0.000000</td>\n",
       "      <td>1.110001e+09</td>\n",
       "      <td>1.000000</td>\n",
       "      <td>5.000000</td>\n",
       "      <td>1.000000</td>\n",
       "      <td>1.000000</td>\n",
       "      <td>1.000000</td>\n",
       "      <td>53.690000</td>\n",
       "      <td>6.000000</td>\n",
       "    </tr>\n",
       "    <tr>\n",
       "      <th>25%</th>\n",
       "      <td>42825.250000</td>\n",
       "      <td>27480.000000</td>\n",
       "      <td>1.231051e+10</td>\n",
       "      <td>23.000000</td>\n",
       "      <td>7.040000</td>\n",
       "      <td>3.000000</td>\n",
       "      <td>NaN</td>\n",
       "      <td>1.000000</td>\n",
       "      <td>90.290000</td>\n",
       "      <td>126.000000</td>\n",
       "    </tr>\n",
       "    <tr>\n",
       "      <th>50%</th>\n",
       "      <td>85197.000000</td>\n",
       "      <td>56997.500000</td>\n",
       "      <td>1.411091e+10</td>\n",
       "      <td>41.000000</td>\n",
       "      <td>12.000000</td>\n",
       "      <td>5.000000</td>\n",
       "      <td>NaN</td>\n",
       "      <td>1.000000</td>\n",
       "      <td>156.100000</td>\n",
       "      <td>223.000000</td>\n",
       "    </tr>\n",
       "    <tr>\n",
       "      <th>75%</th>\n",
       "      <td>127510.750000</td>\n",
       "      <td>85321.000000</td>\n",
       "      <td>1.581150e+10</td>\n",
       "      <td>58.000000</td>\n",
       "      <td>18.000000</td>\n",
       "      <td>6.000000</td>\n",
       "      <td>NaN</td>\n",
       "      <td>2.000000</td>\n",
       "      <td>273.200000</td>\n",
       "      <td>398.000000</td>\n",
       "    </tr>\n",
       "    <tr>\n",
       "      <th>max</th>\n",
       "      <td>170567.000000</td>\n",
       "      <td>131798.000000</td>\n",
       "      <td>1.601081e+11</td>\n",
       "      <td>229.000000</td>\n",
       "      <td>36.000000</td>\n",
       "      <td>9.000000</td>\n",
       "      <td>7.000000</td>\n",
       "      <td>4.000000</td>\n",
       "      <td>660.060000</td>\n",
       "      <td>1571.000000</td>\n",
       "    </tr>\n",
       "  </tbody>\n",
       "</table>\n",
       "</div>"
      ],
      "text/plain": [
       "          Unnamed: 0   Unnamed: 0.1        raceID     racecourse  \\\n",
       "count  167990.000000  167990.000000  1.679900e+05  167990.000000   \n",
       "mean    85158.914120   57409.872969  3.432773e+10      69.762528   \n",
       "std     48976.759614   34199.839918  4.409543e+10      74.534571   \n",
       "min         0.000000       0.000000  1.110001e+09       1.000000   \n",
       "25%     42825.250000   27480.000000  1.231051e+10      23.000000   \n",
       "50%     85197.000000   56997.500000  1.411091e+10      41.000000   \n",
       "75%    127510.750000   85321.000000  1.581150e+10      58.000000   \n",
       "max    170567.000000  131798.000000  1.601081e+11     229.000000   \n",
       "\n",
       "            distance          going      raceclass      racetype2  \\\n",
       "count  167990.000000  167990.000000  133952.000000  167990.000000   \n",
       "mean       13.138798       5.086338       4.387236       1.668826   \n",
       "std         6.339263       2.131568       1.355758       0.886513   \n",
       "min         5.000000       1.000000       1.000000       1.000000   \n",
       "25%         7.040000       3.000000            NaN       1.000000   \n",
       "50%        12.000000       5.000000            NaN       1.000000   \n",
       "75%        18.000000       6.000000            NaN       2.000000   \n",
       "max        36.000000       9.000000       7.000000       4.000000   \n",
       "\n",
       "             wintime          count  \n",
       "count  167990.000000  167990.000000  \n",
       "mean      189.334123     351.166534  \n",
       "std       107.393266     367.565360  \n",
       "min        53.690000       6.000000  \n",
       "25%        90.290000     126.000000  \n",
       "50%       156.100000     223.000000  \n",
       "75%       273.200000     398.000000  \n",
       "max       660.060000    1571.000000  "
      ]
     },
     "execution_count": 17,
     "metadata": {},
     "output_type": "execute_result"
    }
   ],
   "source": [
    "wintimes.describe()"
   ]
  },
  {
   "cell_type": "code",
   "execution_count": 18,
   "metadata": {
    "collapsed": false
   },
   "outputs": [],
   "source": [
    "std_times = wintimes.groupby(['racecourse','racetype2','distance']).wintime.quantile(.05).reset_index()"
   ]
  },
  {
   "cell_type": "code",
   "execution_count": 19,
   "metadata": {
    "collapsed": false
   },
   "outputs": [
    {
     "data": {
      "text/html": [
       "<div>\n",
       "<table border=\"1\" class=\"dataframe\">\n",
       "  <thead>\n",
       "    <tr style=\"text-align: right;\">\n",
       "      <th></th>\n",
       "      <th>racecourse</th>\n",
       "      <th>racetype2</th>\n",
       "      <th>distance</th>\n",
       "      <th>wintime</th>\n",
       "    </tr>\n",
       "  </thead>\n",
       "  <tbody>\n",
       "    <tr>\n",
       "      <th>0</th>\n",
       "      <td>1</td>\n",
       "      <td>1</td>\n",
       "      <td>5.0</td>\n",
       "      <td>59.1100</td>\n",
       "    </tr>\n",
       "    <tr>\n",
       "      <th>1</th>\n",
       "      <td>1</td>\n",
       "      <td>1</td>\n",
       "      <td>6.0</td>\n",
       "      <td>72.4915</td>\n",
       "    </tr>\n",
       "    <tr>\n",
       "      <th>2</th>\n",
       "      <td>1</td>\n",
       "      <td>1</td>\n",
       "      <td>6.5</td>\n",
       "      <td>80.7430</td>\n",
       "    </tr>\n",
       "    <tr>\n",
       "      <th>3</th>\n",
       "      <td>1</td>\n",
       "      <td>1</td>\n",
       "      <td>7.0</td>\n",
       "      <td>85.9000</td>\n",
       "    </tr>\n",
       "    <tr>\n",
       "      <th>4</th>\n",
       "      <td>1</td>\n",
       "      <td>1</td>\n",
       "      <td>8.0</td>\n",
       "      <td>98.3240</td>\n",
       "    </tr>\n",
       "  </tbody>\n",
       "</table>\n",
       "</div>"
      ],
      "text/plain": [
       "   racecourse  racetype2  distance  wintime\n",
       "0           1          1       5.0  59.1100\n",
       "1           1          1       6.0  72.4915\n",
       "2           1          1       6.5  80.7430\n",
       "3           1          1       7.0  85.9000\n",
       "4           1          1       8.0  98.3240"
      ]
     },
     "execution_count": 19,
     "metadata": {},
     "output_type": "execute_result"
    }
   ],
   "source": [
    "std_times.head()"
   ]
  },
  {
   "cell_type": "code",
   "execution_count": 20,
   "metadata": {
    "collapsed": false
   },
   "outputs": [
    {
     "data": {
      "text/html": [
       "<div>\n",
       "<table border=\"1\" class=\"dataframe\">\n",
       "  <thead>\n",
       "    <tr style=\"text-align: right;\">\n",
       "      <th></th>\n",
       "      <th>racecourse</th>\n",
       "      <th>racetype2</th>\n",
       "      <th>distance</th>\n",
       "      <th>std_time</th>\n",
       "    </tr>\n",
       "  </thead>\n",
       "  <tbody>\n",
       "    <tr>\n",
       "      <th>0</th>\n",
       "      <td>1</td>\n",
       "      <td>1</td>\n",
       "      <td>5.0</td>\n",
       "      <td>59.1100</td>\n",
       "    </tr>\n",
       "    <tr>\n",
       "      <th>1</th>\n",
       "      <td>1</td>\n",
       "      <td>1</td>\n",
       "      <td>6.0</td>\n",
       "      <td>72.4915</td>\n",
       "    </tr>\n",
       "    <tr>\n",
       "      <th>2</th>\n",
       "      <td>1</td>\n",
       "      <td>1</td>\n",
       "      <td>6.5</td>\n",
       "      <td>80.7430</td>\n",
       "    </tr>\n",
       "    <tr>\n",
       "      <th>3</th>\n",
       "      <td>1</td>\n",
       "      <td>1</td>\n",
       "      <td>7.0</td>\n",
       "      <td>85.9000</td>\n",
       "    </tr>\n",
       "    <tr>\n",
       "      <th>4</th>\n",
       "      <td>1</td>\n",
       "      <td>1</td>\n",
       "      <td>8.0</td>\n",
       "      <td>98.3240</td>\n",
       "    </tr>\n",
       "  </tbody>\n",
       "</table>\n",
       "</div>"
      ],
      "text/plain": [
       "   racecourse  racetype2  distance  std_time\n",
       "0           1          1       5.0   59.1100\n",
       "1           1          1       6.0   72.4915\n",
       "2           1          1       6.5   80.7430\n",
       "3           1          1       7.0   85.9000\n",
       "4           1          1       8.0   98.3240"
      ]
     },
     "execution_count": 20,
     "metadata": {},
     "output_type": "execute_result"
    }
   ],
   "source": [
    "std_times.rename(columns={'wintime':'std_time'}, inplace=True)\n",
    "std_times.head()"
   ]
  },
  {
   "cell_type": "code",
   "execution_count": 21,
   "metadata": {
    "collapsed": true
   },
   "outputs": [],
   "source": [
    "wintimes = pd.merge(wintimes, std_times, how='outer', on=['racecourse','racetype2','distance'])"
   ]
  },
  {
   "cell_type": "code",
   "execution_count": 22,
   "metadata": {
    "collapsed": false
   },
   "outputs": [
    {
     "data": {
      "text/html": [
       "<div>\n",
       "<table border=\"1\" class=\"dataframe\">\n",
       "  <thead>\n",
       "    <tr style=\"text-align: right;\">\n",
       "      <th></th>\n",
       "      <th>Unnamed: 0</th>\n",
       "      <th>Unnamed: 0.1</th>\n",
       "      <th>raceID</th>\n",
       "      <th>racedate</th>\n",
       "      <th>racecourse</th>\n",
       "      <th>distance</th>\n",
       "      <th>going</th>\n",
       "      <th>raceclass</th>\n",
       "      <th>racetype</th>\n",
       "      <th>racetype2</th>\n",
       "      <th>age_cond</th>\n",
       "      <th>wintime</th>\n",
       "      <th>count</th>\n",
       "      <th>std_time</th>\n",
       "    </tr>\n",
       "  </thead>\n",
       "  <tbody>\n",
       "    <tr>\n",
       "      <th>0</th>\n",
       "      <td>0</td>\n",
       "      <td>0</td>\n",
       "      <td>1.110001e+09</td>\n",
       "      <td>2000-01-15</td>\n",
       "      <td>1</td>\n",
       "      <td>20.0</td>\n",
       "      <td>6</td>\n",
       "      <td>3.0</td>\n",
       "      <td>Novices' Hurdle</td>\n",
       "      <td>2</td>\n",
       "      <td>5yo+</td>\n",
       "      <td>324.91</td>\n",
       "      <td>40</td>\n",
       "      <td>292.019</td>\n",
       "    </tr>\n",
       "    <tr>\n",
       "      <th>1</th>\n",
       "      <td>6</td>\n",
       "      <td>40</td>\n",
       "      <td>1.110001e+09</td>\n",
       "      <td>2000-01-21</td>\n",
       "      <td>1</td>\n",
       "      <td>20.0</td>\n",
       "      <td>5</td>\n",
       "      <td>3.0</td>\n",
       "      <td>Novices' Hurdle</td>\n",
       "      <td>2</td>\n",
       "      <td>5yo</td>\n",
       "      <td>313.55</td>\n",
       "      <td>40</td>\n",
       "      <td>292.019</td>\n",
       "    </tr>\n",
       "    <tr>\n",
       "      <th>2</th>\n",
       "      <td>13</td>\n",
       "      <td>103</td>\n",
       "      <td>1.110002e+09</td>\n",
       "      <td>2000-02-19</td>\n",
       "      <td>1</td>\n",
       "      <td>20.0</td>\n",
       "      <td>6</td>\n",
       "      <td>2.0</td>\n",
       "      <td>Handicap Hurdle</td>\n",
       "      <td>2</td>\n",
       "      <td>4yo+</td>\n",
       "      <td>311.88</td>\n",
       "      <td>40</td>\n",
       "      <td>292.019</td>\n",
       "    </tr>\n",
       "    <tr>\n",
       "      <th>3</th>\n",
       "      <td>23</td>\n",
       "      <td>182</td>\n",
       "      <td>1.110004e+09</td>\n",
       "      <td>2000-04-01</td>\n",
       "      <td>1</td>\n",
       "      <td>20.0</td>\n",
       "      <td>3</td>\n",
       "      <td>3.0</td>\n",
       "      <td>Novices' Hurdle</td>\n",
       "      <td>2</td>\n",
       "      <td>4yo+</td>\n",
       "      <td>299.21</td>\n",
       "      <td>40</td>\n",
       "      <td>292.019</td>\n",
       "    </tr>\n",
       "    <tr>\n",
       "      <th>4</th>\n",
       "      <td>26</td>\n",
       "      <td>209</td>\n",
       "      <td>1.110004e+09</td>\n",
       "      <td>2000-04-05</td>\n",
       "      <td>1</td>\n",
       "      <td>20.0</td>\n",
       "      <td>8</td>\n",
       "      <td>3.0</td>\n",
       "      <td>Novices' Hurdle</td>\n",
       "      <td>2</td>\n",
       "      <td>4yo+</td>\n",
       "      <td>313.12</td>\n",
       "      <td>40</td>\n",
       "      <td>292.019</td>\n",
       "    </tr>\n",
       "  </tbody>\n",
       "</table>\n",
       "</div>"
      ],
      "text/plain": [
       "   Unnamed: 0  Unnamed: 0.1        raceID    racedate  racecourse  distance  \\\n",
       "0           0             0  1.110001e+09  2000-01-15           1      20.0   \n",
       "1           6            40  1.110001e+09  2000-01-21           1      20.0   \n",
       "2          13           103  1.110002e+09  2000-02-19           1      20.0   \n",
       "3          23           182  1.110004e+09  2000-04-01           1      20.0   \n",
       "4          26           209  1.110004e+09  2000-04-05           1      20.0   \n",
       "\n",
       "   going  raceclass         racetype  racetype2 age_cond  wintime  count  \\\n",
       "0      6        3.0  Novices' Hurdle          2     5yo+   324.91     40   \n",
       "1      5        3.0  Novices' Hurdle          2      5yo   313.55     40   \n",
       "2      6        2.0  Handicap Hurdle          2     4yo+   311.88     40   \n",
       "3      3        3.0  Novices' Hurdle          2     4yo+   299.21     40   \n",
       "4      8        3.0  Novices' Hurdle          2     4yo+   313.12     40   \n",
       "\n",
       "   std_time  \n",
       "0   292.019  \n",
       "1   292.019  \n",
       "2   292.019  \n",
       "3   292.019  \n",
       "4   292.019  "
      ]
     },
     "execution_count": 22,
     "metadata": {},
     "output_type": "execute_result"
    }
   ],
   "source": [
    "wintimes.head()"
   ]
  },
  {
   "cell_type": "code",
   "execution_count": 23,
   "metadata": {
    "collapsed": true
   },
   "outputs": [],
   "source": [
    "# And write the bugger to a .csv file\n",
    "std_times.to_csv(\"/home/benjamin/Documents/form_study/data/timeform/csv/analysis/std_times.csv\")"
   ]
  },
  {
   "cell_type": "code",
   "execution_count": 24,
   "metadata": {
    "collapsed": false
   },
   "outputs": [
    {
     "data": {
      "text/html": [
       "<div>\n",
       "<table border=\"1\" class=\"dataframe\">\n",
       "  <thead>\n",
       "    <tr style=\"text-align: right;\">\n",
       "      <th></th>\n",
       "      <th>racecourse</th>\n",
       "      <th>racetype2</th>\n",
       "      <th>distance</th>\n",
       "      <th>std_time</th>\n",
       "    </tr>\n",
       "  </thead>\n",
       "  <tbody>\n",
       "    <tr>\n",
       "      <th>0</th>\n",
       "      <td>1</td>\n",
       "      <td>1</td>\n",
       "      <td>5.00</td>\n",
       "      <td>59.1100</td>\n",
       "    </tr>\n",
       "    <tr>\n",
       "      <th>1</th>\n",
       "      <td>1</td>\n",
       "      <td>1</td>\n",
       "      <td>6.00</td>\n",
       "      <td>72.4915</td>\n",
       "    </tr>\n",
       "    <tr>\n",
       "      <th>2</th>\n",
       "      <td>1</td>\n",
       "      <td>1</td>\n",
       "      <td>6.50</td>\n",
       "      <td>80.7430</td>\n",
       "    </tr>\n",
       "    <tr>\n",
       "      <th>3</th>\n",
       "      <td>1</td>\n",
       "      <td>1</td>\n",
       "      <td>7.00</td>\n",
       "      <td>85.9000</td>\n",
       "    </tr>\n",
       "    <tr>\n",
       "      <th>4</th>\n",
       "      <td>1</td>\n",
       "      <td>1</td>\n",
       "      <td>8.00</td>\n",
       "      <td>98.3240</td>\n",
       "    </tr>\n",
       "    <tr>\n",
       "      <th>5</th>\n",
       "      <td>1</td>\n",
       "      <td>1</td>\n",
       "      <td>10.00</td>\n",
       "      <td>123.8985</td>\n",
       "    </tr>\n",
       "    <tr>\n",
       "      <th>6</th>\n",
       "      <td>1</td>\n",
       "      <td>1</td>\n",
       "      <td>12.00</td>\n",
       "      <td>147.6680</td>\n",
       "    </tr>\n",
       "    <tr>\n",
       "      <th>7</th>\n",
       "      <td>1</td>\n",
       "      <td>1</td>\n",
       "      <td>14.00</td>\n",
       "      <td>179.9515</td>\n",
       "    </tr>\n",
       "    <tr>\n",
       "      <th>8</th>\n",
       "      <td>1</td>\n",
       "      <td>1</td>\n",
       "      <td>16.00</td>\n",
       "      <td>205.3120</td>\n",
       "    </tr>\n",
       "    <tr>\n",
       "      <th>9</th>\n",
       "      <td>1</td>\n",
       "      <td>1</td>\n",
       "      <td>16.20</td>\n",
       "      <td>209.1270</td>\n",
       "    </tr>\n",
       "    <tr>\n",
       "      <th>10</th>\n",
       "      <td>1</td>\n",
       "      <td>1</td>\n",
       "      <td>20.00</td>\n",
       "      <td>260.1950</td>\n",
       "    </tr>\n",
       "    <tr>\n",
       "      <th>11</th>\n",
       "      <td>1</td>\n",
       "      <td>1</td>\n",
       "      <td>21.72</td>\n",
       "      <td>286.3060</td>\n",
       "    </tr>\n",
       "  </tbody>\n",
       "</table>\n",
       "</div>"
      ],
      "text/plain": [
       "    racecourse  racetype2  distance  std_time\n",
       "0            1          1      5.00   59.1100\n",
       "1            1          1      6.00   72.4915\n",
       "2            1          1      6.50   80.7430\n",
       "3            1          1      7.00   85.9000\n",
       "4            1          1      8.00   98.3240\n",
       "5            1          1     10.00  123.8985\n",
       "6            1          1     12.00  147.6680\n",
       "7            1          1     14.00  179.9515\n",
       "8            1          1     16.00  205.3120\n",
       "9            1          1     16.20  209.1270\n",
       "10           1          1     20.00  260.1950\n",
       "11           1          1     21.72  286.3060"
      ]
     },
     "execution_count": 24,
     "metadata": {},
     "output_type": "execute_result"
    }
   ],
   "source": [
    "# Here's Ascot on the flat\n",
    "std_times[(std_times.racecourse==1) & (std_times.racetype2==1)]"
   ]
  },
  {
   "cell_type": "code",
   "execution_count": 25,
   "metadata": {
    "collapsed": false
   },
   "outputs": [
    {
     "data": {
      "text/html": [
       "<div>\n",
       "<table border=\"1\" class=\"dataframe\">\n",
       "  <thead>\n",
       "    <tr style=\"text-align: right;\">\n",
       "      <th></th>\n",
       "      <th>racecourse</th>\n",
       "      <th>racetype2</th>\n",
       "      <th>distance</th>\n",
       "      <th>std_time</th>\n",
       "    </tr>\n",
       "  </thead>\n",
       "  <tbody>\n",
       "    <tr>\n",
       "      <th>386</th>\n",
       "      <td>24</td>\n",
       "      <td>3</td>\n",
       "      <td>16.50</td>\n",
       "      <td>236.451</td>\n",
       "    </tr>\n",
       "    <tr>\n",
       "      <th>387</th>\n",
       "      <td>24</td>\n",
       "      <td>3</td>\n",
       "      <td>20.07</td>\n",
       "      <td>309.080</td>\n",
       "    </tr>\n",
       "    <tr>\n",
       "      <th>388</th>\n",
       "      <td>24</td>\n",
       "      <td>3</td>\n",
       "      <td>20.50</td>\n",
       "      <td>300.098</td>\n",
       "    </tr>\n",
       "    <tr>\n",
       "      <th>389</th>\n",
       "      <td>24</td>\n",
       "      <td>3</td>\n",
       "      <td>23.00</td>\n",
       "      <td>349.840</td>\n",
       "    </tr>\n",
       "    <tr>\n",
       "      <th>390</th>\n",
       "      <td>24</td>\n",
       "      <td>3</td>\n",
       "      <td>25.00</td>\n",
       "      <td>375.190</td>\n",
       "    </tr>\n",
       "    <tr>\n",
       "      <th>391</th>\n",
       "      <td>24</td>\n",
       "      <td>3</td>\n",
       "      <td>32.00</td>\n",
       "      <td>521.871</td>\n",
       "    </tr>\n",
       "  </tbody>\n",
       "</table>\n",
       "</div>"
      ],
      "text/plain": [
       "     racecourse  racetype2  distance  std_time\n",
       "386          24          3     16.50   236.451\n",
       "387          24          3     20.07   309.080\n",
       "388          24          3     20.50   300.098\n",
       "389          24          3     23.00   349.840\n",
       "390          24          3     25.00   375.190\n",
       "391          24          3     32.00   521.871"
      ]
     },
     "execution_count": 25,
     "metadata": {},
     "output_type": "execute_result"
    }
   ],
   "source": [
    "# Oh dear, I've lost my racecourse listing so I've no idea where this is. Hereford for chasing?\n",
    "# What a mess this has all got.\n",
    "std_times[(std_times.racecourse==24) & (std_times.racetype2==3)]"
   ]
  },
  {
   "cell_type": "markdown",
   "metadata": {},
   "source": [
    "## Statistical Analysis"
   ]
  },
  {
   "cell_type": "markdown",
   "metadata": {},
   "source": [
    "A final plot below exhibits a nice tidy plotting convention. It also shows how difficult I've found it to produce any sensible visualisation of this data. This isn't really statistical analysis. It's just a pretty plot."
   ]
  },
  {
   "cell_type": "code",
   "execution_count": 26,
   "metadata": {
    "collapsed": false
   },
   "outputs": [
    {
     "data": {
      "text/plain": [
       "<matplotlib.axes._subplots.AxesSubplot at 0xad5d920c>"
      ]
     },
     "execution_count": 26,
     "metadata": {},
     "output_type": "execute_result"
    },
    {
     "data": {
      "image/png": "[encoded data removed]",
      "text/plain": [
       "<matplotlib.figure.Figure at 0xad4921cc>"
      ]
     },
     "metadata": {},
     "output_type": "display_data"
    }
   ],
   "source": [
    "fig, axs = plt.subplots(1, 3, sharey=True)\n",
    "wintimes.plot(kind='scatter', x='distance', y='std_time', ax=axs[0], figsize=(16, 8))\n",
    "wintimes.plot(kind='scatter', x='going', y='std_time', ax=axs[1])\n",
    "wintimes.plot(kind='scatter', x='raceclass', y='std_time', ax=axs[2])"
   ]
  },
  {
   "cell_type": "markdown",
   "metadata": {},
   "source": [
    "Now I'm going to try to apply some proper regression analysis to the wintimes dataset. Get me!"
   ]
  },
  {
   "cell_type": "code",
   "execution_count": 16,
   "metadata": {
    "collapsed": false
   },
   "outputs": [
    {
     "name": "stdout",
     "output_type": "stream",
     "text": [
      "-46.2410932736\n",
      "[ 16.29040885   0.74174067   3.49052907]\n"
     ]
    }
   ],
   "source": [
    "filepath = \"/home/benjamin/Documents/form_study/data/timeform/csv/analysis/clean_wintimes.csv\"\n",
    "wintimes = pd.read_csv(filepath, sep = \",\", usecols=['racecourse','distance','going','raceclass','wintime'], na_filter=True)\t\n",
    "# drop nas from raceclass\n",
    "wintimes = wintimes.dropna(how='any')\n",
    "wintimes.describe()\n",
    "feature_cols = ['distance','raceclass','going']\n",
    "wintimes_X = wintimes[feature_cols]\n",
    "wintimes_y = wintimes.wintime\n",
    "\n",
    "# follow the usual sklearn pattern: import, instantiate, fit\n",
    "from sklearn.linear_model import LinearRegression\n",
    "lm = LinearRegression()\n",
    "lm.fit(wintimes_X, wintimes_y)\n",
    "\n",
    "# print intercept and coefficients\n",
    "print lm.intercept_\n",
    "print lm.coef_"
   ]
  },
  {
   "cell_type": "markdown",
   "metadata": {},
   "source": [
    "These results look pretty weird at first. The same results came out with Ridge Regression. Is something going wrong? The data looks really clean and straight-forward.  \n",
    "\n",
    "It turns out that the problem is that the data needs normalising. We'll come to that in a minute."
   ]
  },
  {
   "cell_type": "code",
   "execution_count": 17,
   "metadata": {
    "collapsed": false
   },
   "outputs": [
    {
     "name": "stderr",
     "output_type": "stream",
     "text": [
      "/home/benjamin/anaconda2/lib/python2.7/site-packages/sklearn/utils/validation.py:386: DeprecationWarning: Passing 1d arrays as data is deprecated in 0.17 and willraise ValueError in 0.19. Reshape your data either using X.reshape(-1, 1) if your data has a single feature or X.reshape(1, -1) if it contains a single sample.\n",
      "  DeprecationWarning)\n"
     ]
    },
    {
     "data": {
      "text/plain": [
       "array([ 103.76004491])"
      ]
     },
     "execution_count": 17,
     "metadata": {},
     "output_type": "execute_result"
    }
   ],
   "source": [
    "# predict for a new observation\n",
    "lm.predict([8.0, 3, 5])"
   ]
  },
  {
   "cell_type": "markdown",
   "metadata": {},
   "source": [
    "The prediction is really good, though. 1 mile race on good ground in a class 3? Predicted time? 1 min 43 secs. Probably that's not far off."
   ]
  },
  {
   "cell_type": "markdown",
   "metadata": {},
   "source": [
    "Does preprocessing - i.e. normalise to scale - help?"
   ]
  },
  {
   "cell_type": "code",
   "execution_count": 18,
   "metadata": {
    "collapsed": false
   },
   "outputs": [
    {
     "name": "stdout",
     "output_type": "stream",
     "text": [
      "3.00124904505e-15\n",
      "[ 0.97064225  0.00927958  0.0664525 ]\n"
     ]
    }
   ],
   "source": [
    "from sklearn import preprocessing\n",
    "\n",
    "wintimes_X = preprocessing.scale(wintimes_X)\n",
    "wintimes_y = preprocessing.scale(wintimes_y)\n",
    "lm = LinearRegression()\n",
    "lm.fit(wintimes_X, wintimes_y)\n",
    "\n",
    "# print intercept and coefficients\n",
    "print lm.intercept_\n",
    "print lm.coef_"
   ]
  },
  {
   "cell_type": "markdown",
   "metadata": {},
   "source": [
    "Wow! Yes, it did! Amazing!\n",
    "So the correlation coefficient should always lie somewhere between -1 and +1 as it does here.\n",
    "There's a really strong correlation between distance and racetime.\n",
    "There really isn't any obvious correlation between the other two features that's picked up here (i.e. I'm still getting nowhere!). I wonder if statsmodels is a better library for regression.\n",
    "See [this quite helpful Linear Regression notebook](https://github.com/justmarkham/DAT4/blob/master/notebooks/08_linear_regression.ipynb) which states:\n",
    "> Note that p-values and confidence intervals are not (easily) accessible through scikit-learn."
   ]
  },
  {
   "cell_type": "code",
   "execution_count": 21,
   "metadata": {
    "collapsed": false
   },
   "outputs": [
    {
     "data": {
      "text/plain": [
       "[('distance', 0.97064224670072752),\n",
       " ('raceclass', 0.0092795848545991488),\n",
       " ('going', 0.066452495063512348)]"
      ]
     },
     "execution_count": 21,
     "metadata": {},
     "output_type": "execute_result"
    }
   ],
   "source": [
    "# pair the feature names with the coefficients\n",
    "zip(feature_cols, lm.coef_)"
   ]
  },
  {
   "cell_type": "code",
   "execution_count": 22,
   "metadata": {
    "collapsed": false
   },
   "outputs": [
    {
     "data": {
      "text/plain": [
       "0.99143660343941264"
      ]
     },
     "execution_count": 22,
     "metadata": {},
     "output_type": "execute_result"
    }
   ],
   "source": [
    "# calculate the R-squared\n",
    "lm.score(wintimes_X, wintimes_y)"
   ]
  },
  {
   "cell_type": "markdown",
   "metadata": {},
   "source": [
    "## Concluding Thoughts"
   ]
  },
  {
   "cell_type": "markdown",
   "metadata": {},
   "source": [
    "On it goes... I won't strive after learning how to plot these standard times. I will have to think about the next steps in going forward. At least I've written a body of standard times out. I'll maybe just try and work with them. This dataset feels wrong somehow, not clean enough, but it's what I've got to work on so I'll go with it and perhaps adopt a rough and ready approach.  \n",
    "\n",
    "Statistical analysis of the dataset also proved very tricky. It highlights how understanding of the statistical methods and shape of the data analysed can be useful in making sense of results."
   ]
  },
  {
   "cell_type": "markdown",
   "metadata": {},
   "source": [
    "## Updated: 27.06.2016     |     Authored : hullboy73"
   ]
  },
  {
   "cell_type": "code",
   "execution_count": null,
   "metadata": {
    "collapsed": true
   },
   "outputs": [],
   "source": []
  }
 ],
 "metadata": {
  "kernelspec": {
   "display_name": "Python 2",
   "language": "python",
   "name": "python2"
  },
  "language_info": {
   "codemirror_mode": {
    "name": "ipython",
    "version": 2
   },
   "file_extension": ".py",
   "mimetype": "text/x-python",
   "name": "python",
   "nbconvert_exporter": "python",
   "pygments_lexer": "ipython2",
   "version": "2.7.12"
  }
 },
 "nbformat": 4,
 "nbformat_minor": 0
}
