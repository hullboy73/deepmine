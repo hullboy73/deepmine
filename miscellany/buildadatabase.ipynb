{
 "cells": [
  {
   "cell_type": "markdown",
   "metadata": {},
   "source": [
    "# BUILD A DATABASE\n",
    "\n",
    "And with this I guess we will really get to see what my programming skills and ipython notebook's functionality is really made of.  \n",
    "\n",
    "The project is to build a database of racing results from a set of .csv files."
   ]
  },
  {
   "cell_type": "code",
   "execution_count": 1,
   "metadata": {
    "collapsed": true
   },
   "outputs": [],
   "source": [
    "# set up, imports and configuration\n",
    "%matplotlib inline\n",
    "import os\n",
    "import pandas as pd\n",
    "import matplotlib.pyplot as plt\n",
    "plt.rcParams['figure.figsize'] = (15, 5)\n",
    "plt.rcParams['font.family'] = 'sans-serif'"
   ]
  },
  {
   "cell_type": "code",
   "execution_count": 2,
   "metadata": {
    "collapsed": false
   },
   "outputs": [],
   "source": [
    "-"
   ]
  },
  {
   "cell_type": "code",
   "execution_count": 3,
   "metadata": {
    "collapsed": false
   },
   "outputs": [
    {
     "data": {
      "text/plain": [
       "(103162, 39)"
      ]
     },
     "execution_count": 3,
     "metadata": {},
     "output_type": "execute_result"
    }
   ],
   "source": [
    "# read complete (merged) csv file into pandas dataframe\n",
    "year = 2000\n",
    "completedf = pd.read_csv(\"/home/benjamin/Documents/form_study/data/timeform/csv/merged/complete{}.csv\".format(year))\n",
    "completedf.shape"
   ]
  },
  {
   "cell_type": "code",
   "execution_count": 7,
   "metadata": {
    "collapsed": false
   },
   "outputs": [
    {
     "data": {
      "text/html": [
       "<div>\n",
       "<table border=\"1\" class=\"dataframe\">\n",
       "  <thead>\n",
       "    <tr style=\"text-align: right;\">\n",
       "      <th></th>\n",
       "      <th>Unnamed: 0</th>\n",
       "      <th>raceID</th>\n",
       "      <th>racedate</th>\n",
       "      <th>racecourse</th>\n",
       "      <th>distance</th>\n",
       "      <th>going</th>\n",
       "      <th>raceclass</th>\n",
       "      <th>racetype</th>\n",
       "      <th>racetype2</th>\n",
       "      <th>age_cond</th>\n",
       "      <th>wintime</th>\n",
       "    </tr>\n",
       "  </thead>\n",
       "  <tbody>\n",
       "    <tr>\n",
       "      <th>0</th>\n",
       "      <td>0</td>\n",
       "      <td>1.110001e+09</td>\n",
       "      <td>2000-01-15</td>\n",
       "      <td>1.0</td>\n",
       "      <td>20.0</td>\n",
       "      <td>good-soft</td>\n",
       "      <td>3</td>\n",
       "      <td>Novices' Hurdle</td>\n",
       "      <td>Hurdle</td>\n",
       "      <td>5yo+</td>\n",
       "      <td>324.91</td>\n",
       "    </tr>\n",
       "    <tr>\n",
       "      <th>1</th>\n",
       "      <td>7</td>\n",
       "      <td>1.110001e+09</td>\n",
       "      <td>2000-01-15</td>\n",
       "      <td>1.0</td>\n",
       "      <td>19.5</td>\n",
       "      <td>good-soft</td>\n",
       "      <td>2</td>\n",
       "      <td>Handicap Chase</td>\n",
       "      <td>Chase</td>\n",
       "      <td>5yo+</td>\n",
       "      <td>309.59</td>\n",
       "    </tr>\n",
       "    <tr>\n",
       "      <th>2</th>\n",
       "      <td>12</td>\n",
       "      <td>1.110001e+09</td>\n",
       "      <td>2000-01-15</td>\n",
       "      <td>1.0</td>\n",
       "      <td>16.0</td>\n",
       "      <td>good-soft</td>\n",
       "      <td>1</td>\n",
       "      <td>Handicap Chase</td>\n",
       "      <td>Chase</td>\n",
       "      <td>5yo+</td>\n",
       "      <td>244.63</td>\n",
       "    </tr>\n",
       "    <tr>\n",
       "      <th>3</th>\n",
       "      <td>22</td>\n",
       "      <td>1.110001e+09</td>\n",
       "      <td>2000-01-15</td>\n",
       "      <td>1.0</td>\n",
       "      <td>16.5</td>\n",
       "      <td>good-soft</td>\n",
       "      <td>2</td>\n",
       "      <td>Handicap Hurdle</td>\n",
       "      <td>Hurdle</td>\n",
       "      <td>4yo+</td>\n",
       "      <td>255.31</td>\n",
       "    </tr>\n",
       "    <tr>\n",
       "      <th>4</th>\n",
       "      <td>29</td>\n",
       "      <td>1.110001e+09</td>\n",
       "      <td>2000-01-15</td>\n",
       "      <td>1.0</td>\n",
       "      <td>24.5</td>\n",
       "      <td>good-soft</td>\n",
       "      <td>2</td>\n",
       "      <td>Novices' Chase</td>\n",
       "      <td>Chase</td>\n",
       "      <td>5yo+</td>\n",
       "      <td>398.33</td>\n",
       "    </tr>\n",
       "  </tbody>\n",
       "</table>\n",
       "</div>"
      ],
      "text/plain": [
       "   Unnamed: 0        raceID    racedate  racecourse  distance      going  \\\n",
       "0           0  1.110001e+09  2000-01-15         1.0      20.0  good-soft   \n",
       "1           7  1.110001e+09  2000-01-15         1.0      19.5  good-soft   \n",
       "2          12  1.110001e+09  2000-01-15         1.0      16.0  good-soft   \n",
       "3          22  1.110001e+09  2000-01-15         1.0      16.5  good-soft   \n",
       "4          29  1.110001e+09  2000-01-15         1.0      24.5  good-soft   \n",
       "\n",
       "  raceclass         racetype racetype2 age_cond  wintime  \n",
       "0         3  Novices' Hurdle    Hurdle     5yo+   324.91  \n",
       "1         2   Handicap Chase     Chase     5yo+   309.59  \n",
       "2         1   Handicap Chase     Chase     5yo+   244.63  \n",
       "3         2  Handicap Hurdle    Hurdle     4yo+   255.31  \n",
       "4         2   Novices' Chase     Chase     5yo+   398.33  "
      ]
     },
     "execution_count": 7,
     "metadata": {},
     "output_type": "execute_result"
    }
   ],
   "source": [
    "# produce an aggregated file of all wintimes\n",
    "def get_wintimes(years = range(2000,2016)):\n",
    "    # create blank df\n",
    "    wintimes = pd.DataFrame(columns= ['raceID','racedate','racecourse','distance','going', 'raceclass','racetype','racetype2','age_cond','wintime'])    \n",
    "    for year in years:\n",
    "        # get each df\n",
    "        completedf = pd.read_csv(\"/home/benjamin/Documents/form_study/data/timeform/csv/merged/complete{}.csv\".format(year))\n",
    "        # for old letter based raceclass\n",
    "        di = {'A':1,'B':2,'C':3,'D':4,'E':5,'F':6,'G':6,'H':7}\n",
    "        completedf['raceclass'] = completedf[\"raceclass\"].apply(lambda x: di.get(x,x))\n",
    "        # select columns and drop duplicates (lots due to no of runners in race with identical winning time)\n",
    "        newdf = completedf[['raceID','racedate','racecourse','distance','going', 'raceclass','racetype','racetype2','age_cond','wintime']].drop_duplicates(subset=['raceID','wintime'])        \n",
    "        # iteratively concatenate to st_df\n",
    "        wintimes = pd.concat([wintimes, newdf])\n",
    "    wintimes.to_csv(\"/home/benjamin/Documents/form_study/data/timeform/csv/analysis/wintimes.csv\")\n",
    "    return wintimes\n",
    "\n",
    "# wintimes = get_wintimes()\n",
    "wintimes = pd.read_csv(\"/home/benjamin/Documents/form_study/data/timeform/csv/analysis/wintimes.csv\")\n",
    "wintimes.head()"
   ]
  },
  {
   "cell_type": "markdown",
   "metadata": {},
   "source": [
    "The following table shows something of the difficulty involved in calculating standard times.  \n",
    "The problem is low sample size.\n",
    "Grouping by racetype, racecourse and distance is of necessity.\n",
    "Within that group two factor are likely to impact dramatically on the wintime - going and raceclass.\n",
    "Going has the most marked impact on the wintime but there is considerable inaccuracy in the grading system (i.e. how clerks of the various courses decide to label the ground conditions)."
   ]
  },
  {
   "cell_type": "code",
   "execution_count": null,
   "metadata": {
    "collapsed": false
   },
   "outputs": [],
   "source": [
    "# wintimes[wintimes.racetype2=='Flat'].racetype.value_counts()\n",
    "# wintimes.groupby(['racetype2','racecourse','distance','going']).wintime.agg(['count','max','min','mean'])"
   ]
  }
 ],
 "metadata": {
  "kernelspec": {
   "display_name": "Python 2",
   "language": "python",
   "name": "python2"
  },
  "language_info": {
   "codemirror_mode": {
    "name": "ipython",
    "version": 2
   },
   "file_extension": ".py",
   "mimetype": "text/x-python",
   "name": "python",
   "nbconvert_exporter": "python",
   "pygments_lexer": "ipython2",
   "version": "2.7.11"
  }
 },
 "nbformat": 4,
 "nbformat_minor": 0
}
